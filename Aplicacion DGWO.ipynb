{
 "cells": [
  {
   "cell_type": "markdown",
   "id": "b411dfe2",
   "metadata": {},
   "source": [
    "# Aplicación del Algoritmo de Optimización de Lobo Gris Discreto (DGWO) en la Distribución de Instalaciones con Áreas Desiguales (UAFLP)"
   ]
  },
  {
   "cell_type": "code",
   "execution_count": 1,
   "id": "9bbc49a1",
   "metadata": {},
   "outputs": [],
   "source": [
    "import numpy as np\n",
    "import matplotlib.pyplot as plt"
   ]
  },
  {
   "cell_type": "markdown",
   "id": "288ca8e9",
   "metadata": {},
   "source": [
    "### Problema de ejemplo para pruebas (O7)"
   ]
  },
  {
   "cell_type": "code",
   "execution_count": null,
   "id": "26777bd6",
   "metadata": {},
   "outputs": [],
   "source": [
    "# O7\n",
    "n_dptos = 7\n",
    "departamentos = np.arange(1, n_dptos + 1)\n",
    "areas_dptos = np.array([16, 16, 16, 36, 9, 9, 9])\n",
    "fl_materiales = np.array([[0, 0, 0, 0, 0, 0, 0],\n",
    "                          [0, 0, 0, 0, 0, 0, 0],\n",
    "                          [0, 0, 0, 0, 0, 0, 0],\n",
    "                          [5, 3, 2, 0, 0, 0, 0],\n",
    "                          [0, 0, 0, 4, 0, 0, 0],\n",
    "                          [0, 0, 0, 4, 0, 0, 0],\n",
    "                          [1, 1, 1, 0, 2, 1, 0]])\n",
    "lados_inst = np.array([8.54, 13]) # ancho, largo\n",
    "max_rel_aspecto = 4\n",
    "nombres_dptos = None\n",
    "costo_manejo_unitario = None\n",
    "\n",
    "solucion = np.array([[3, 5, 7, 1, 4, 6, 2], \n",
    "                     [0, 0, 1, 0, 0, 0, 1]])"
   ]
  },
  {
   "cell_type": "markdown",
   "id": "654a7e0b",
   "metadata": {},
   "source": [
    "## 1. Definición del modelo UAFLP"
   ]
  },
  {
   "cell_type": "markdown",
   "id": "c4ca6a67",
   "metadata": {},
   "source": [
    "### 1.1 Método para la decodificación de la solución\n",
    "\n",
    "**Entradas**: Array con una solución `np.array([dptos], [bahias])`\n",
    "\n",
    "Se requieren los siguientes pasos:\n",
    "\n",
    "* **Identificar bahias**: Retorna una lista con los departamentos en cada bahía: `bahias`.\n",
    "\n",
    "\n",
    "* **Calcular dimensiones y centroides de los departamentos**:  Retorna una lista con las dimensiones de ancho y largo de cada departamento `lados_dptos` y otra lista con las coordenadas en $x$ y $y$ de los centroides de cada departamento `centroides_dptos`."
   ]
  },
  {
   "cell_type": "code",
   "execution_count": null,
   "id": "76ec4be2",
   "metadata": {},
   "outputs": [],
   "source": [
    "## Identificar bahias\n",
    "bahias = []\n",
    "dpts_bahias = []\n",
    "\n",
    "for ind, bah in enumerate(solucion[1]):\n",
    "    dpto = solucion[0, ind]\n",
    "\n",
    "    if ind == 0 or bah == 0:\n",
    "        dpts_bahias.append(dpto)\n",
    "        if bah == 1:\n",
    "            bahias.append(dpts_bahias)\n",
    "            dpts_bahias = []\n",
    "    elif bah == 1:\n",
    "        dpts_bahias.append(dpto)\n",
    "        bahias.append(dpts_bahias)\n",
    "        dpts_bahias = []"
   ]
  },
  {
   "cell_type": "code",
   "execution_count": null,
   "id": "4fd59c4c",
   "metadata": {},
   "outputs": [],
   "source": [
    "bahias"
   ]
  },
  {
   "cell_type": "code",
   "execution_count": null,
   "id": "14b76170",
   "metadata": {},
   "outputs": [],
   "source": [
    "## Obtener dimensiones de lados y centroides de departamentos\n",
    "centroides_dptos = [0] * n_dptos\n",
    "lados_dptos = [0] * n_dptos\n",
    "\n",
    "contador_ancho = 0\n",
    "for bah in bahias:\n",
    "    \n",
    "    area_bahia = 0\n",
    "    for dpto in bah:\n",
    "        area_bahia += areas_dptos[dpto-1]\n",
    "        \n",
    "    ancho_bahia = area_bahia / lados_inst[1]\n",
    "    \n",
    "    contador_largo = 0\n",
    "    for dpto in bah:\n",
    "        largo_dpto = areas_dptos[dpto-1] / ancho_bahia\n",
    "        lados_dptos[dpto-1] = [ancho_bahia, largo_dpto]\n",
    "        centro_x = contador_ancho + ancho_bahia / 2\n",
    "        centro_y = contador_largo + largo_dpto / 2\n",
    "        centroides_dptos[dpto-1] = [centro_x, centro_y]\n",
    "        contador_largo += largo_dpto\n",
    "        \n",
    "    contador_ancho += ancho_bahia        "
   ]
  },
  {
   "cell_type": "code",
   "execution_count": null,
   "id": "1958b987",
   "metadata": {},
   "outputs": [],
   "source": [
    "centroides_dptos"
   ]
  },
  {
   "cell_type": "code",
   "execution_count": null,
   "id": "3beb8084",
   "metadata": {},
   "outputs": [],
   "source": [
    "lados_dptos"
   ]
  },
  {
   "cell_type": "markdown",
   "id": "1ab5da50",
   "metadata": {},
   "source": [
    "### 1.2 Método para dibujar el plano de planta de la solución\n",
    "\n",
    "**Entradas**: \n",
    "\n",
    "* Array con una solución `np.array([dptos], [bahias])`\n",
    "* Lista de los departamentos en cada bahía `bahias`\n",
    "* Lista con las dimensiones de lados de los departamentos `lados_dptos`\n",
    "* Lista con las coordenadas de los centroides de los departamentos `centroides_dptos`\n",
    "\n",
    "Retorna un layout de bloques con la ubicación de los departamentos en el plano de planta, de acuerdo con la solución dada."
   ]
  },
  {
   "cell_type": "code",
   "execution_count": null,
   "id": "ca032f60",
   "metadata": {},
   "outputs": [],
   "source": [
    "# Dibujar layout de planta de la solucion\n",
    "if nombres_dptos == None:\n",
    "    nombres_dptos = [f'Dpto {d}' for d in departamentos]\n",
    "\n",
    "if lados_inst[0] > lados_inst[1]:\n",
    "    fig = plt.figure(dpi=300, figsize=(3, 2))\n",
    "else:\n",
    "    fig = plt.figure(dpi=300, figsize=(2, 3))\n",
    "    \n",
    "plt.rcParams.update({'font.size': 6})\n",
    "ax = fig.add_subplot(111)\n",
    "ax.set_xlim([0, lados_inst[0]])\n",
    "ax.set_ylim([0, lados_inst[1]])\n",
    "ax.set_xticks([0, lados_inst[0]])\n",
    "ax.set_yticks([0, lados_inst[1]])\n",
    "\n",
    "esq_x = 0\n",
    "for bah in bahias:\n",
    "    \n",
    "    esq_y = 0\n",
    "    for dpt in bah:\n",
    "        rect = plt.Rectangle((esq_x, esq_y), width=lados_dptos[dpt-1][0],\n",
    "                            height=lados_dptos[dpt-1][1], facecolor='white',\n",
    "                            edgecolor='black')\n",
    "        plt.text(centroides_dptos[dpt-1][0], centroides_dptos[dpt-1][1],\n",
    "                f'{nombres_dptos[dpt-1]}', horizontalalignment='center',\n",
    "                verticalalignment='top')\n",
    "        plt.plot(centroides_dptos[dpt-1][0], centroides_dptos[dpt-1][1],\n",
    "                color='black', marker=None, markersize=2)\n",
    "        ax.add_patch(rect)\n",
    "        \n",
    "        esq_y += lados_dptos[dpt-1][1]\n",
    "        \n",
    "    esq_x += lados_dptos[dpt-1][0]\n",
    "    \n",
    "plt.show()"
   ]
  },
  {
   "cell_type": "markdown",
   "id": "c8b38e39",
   "metadata": {},
   "source": [
    "### 1.2 Método para calcular la función *fitness* de la solución\n",
    "\n",
    "Se requieren los siguientes pasos:\n",
    "\n",
    "* **Calcular las distancias entre departamentos**: Retorna una matriz triangular inferior con las distancias *rectilíneas*  entre cada par de departamentos: `distancias_dptos`\n",
    "\n",
    "\n",
    "* **Calcular el costo de manejo de materiales**: Retorna el valor de la función objetivo del modelo: `mhc`.\n",
    "\n",
    "\n",
    "* **Calcular la función fitness**: Retorna el valor de la función *fitness*, considerando penalizaciones por incumplimiento de la restricción de aspecto máxima definida para cada uno de los departamentos en la instalación: `fitness`.\n"
   ]
  },
  {
   "cell_type": "code",
   "execution_count": null,
   "id": "4b37e471",
   "metadata": {},
   "outputs": [],
   "source": [
    "# Calcular las distancias rectilíneas entre departamentos\n",
    "distancias_dptos = np.zeros((n_dptos, n_dptos))\n",
    "\n",
    "for i in departamentos:\n",
    "    for j in departamentos[i:]:\n",
    "        dist_rectil_x = np.abs(centroides_dptos[i-1][0] - centroides_dptos[j-1][0])\n",
    "        dist_rectil_y = np.abs(centroides_dptos[i-1][1] - centroides_dptos[j-1][1])\n",
    "        \n",
    "        distancias_dptos[j-1, i-1] = dist_rectil_x + dist_rectil_y"
   ]
  },
  {
   "cell_type": "code",
   "execution_count": null,
   "id": "fe937566",
   "metadata": {},
   "outputs": [],
   "source": [
    "distancias_dptos"
   ]
  },
  {
   "cell_type": "code",
   "execution_count": null,
   "id": "0ea74da7",
   "metadata": {},
   "outputs": [],
   "source": [
    "# Calcular el costo total de manejo de materiales\n",
    "\n",
    "# Crear una matriz con el costo de manejo por unidad\n",
    "matriz_costos_dptos = None\n",
    "if costo_manejo_unitario == None: \n",
    "    matriz_costos_dptos = np.ones((n_dptos, n_dptos))\n",
    "else:\n",
    "    matriz_costos_dptos = np.full((n_dptos, n_dptos), costo_manejo_unitario)\n",
    "\n",
    "    \n",
    "mhc = np.sum(matriz_costos_dptos * distancias_dptos * fl_materiales)"
   ]
  },
  {
   "cell_type": "code",
   "execution_count": null,
   "id": "7dd0b907",
   "metadata": {},
   "outputs": [],
   "source": [
    "mhc"
   ]
  },
  {
   "cell_type": "code",
   "execution_count": null,
   "id": "0dfe39e4",
   "metadata": {},
   "outputs": [],
   "source": [
    "# Calcular función fitness\n",
    "k = 3\n",
    "\n",
    "contador_rompen_restr = 0\n",
    "for i in solucion[0]:\n",
    "    tasa_aspecto = max(lados_dptos[i-1][0], lados_dptos[i-1][1]) / min(lados_dptos[i-1][0], lados_dptos[i-1][1])\n",
    "    \n",
    "    if tasa_aspecto > max_rel_aspecto:\n",
    "        contador_rompen_restr += 1\n",
    "        \n",
    "fitness = mhc + mhc * (contador_rompen_restr ** k)"
   ]
  },
  {
   "cell_type": "code",
   "execution_count": null,
   "id": "316a8e3e",
   "metadata": {},
   "outputs": [],
   "source": [
    "fitness"
   ]
  },
  {
   "cell_type": "markdown",
   "id": "2d1c2f9f",
   "metadata": {},
   "source": [
    "### 1.3 Creación de la clase `ModeloUAFLP` para su aplicación usando el DGWO\n",
    "\n",
    "Las clases permiten generar *objetos* que contienen atributos y métodos, que a su vez pueden ser manipulados por otras clases."
   ]
  },
  {
   "cell_type": "code",
   "execution_count": null,
   "id": "257d5f4b",
   "metadata": {},
   "outputs": [],
   "source": [
    "class ModeloUAFLP:\n",
    "    \n",
    "    # Constructor de la clase (argumentos requeridos para crear la clase)\n",
    "    def __init__(self, n_dptos:int, areas_dptos:np.ndarray, flujo_materiales:np.ndarray,\n",
    "                lados_instalacion:np.ndarray, tasa_aspecto_max:int, costo_manejo_unit:float=None,\n",
    "                nombres_dptos:list=None, archivo_datos:str=None) -> None:\n",
    "        \n",
    "        if archivo_datos == None:\n",
    "            self.n_dptos = n_dptos\n",
    "            self.departamentos = np.arange(1, self.n_dptos + 1)\n",
    "            self.areas_dptos = areas_dptos\n",
    "            self.flujo_materiales = flujo_materiales\n",
    "            self.lados_instalacion = lados_instalacion\n",
    "            self.tasa_aspecto_max = tasa_aspecto_max\n",
    "            self.nombres_dptos = nombres_dptos\n",
    "            self.costo_manejo_unit = costo_manejo_unit\n",
    "            \n",
    "            # Definir matriz de costo de manejo unitario\n",
    "            if self.costo_manejo_unit == None:\n",
    "                matriz_costos_dptos = np.ones((self.n_dptos, self.n_dptos))\n",
    "            else:\n",
    "                matriz_costos_dptos = np.full((self.n_dptos, self.n_dptos), self.costo_manejo_unit)\n",
    "        else: # Crear construcción para extraer datos de archivo de datos\n",
    "            pass \n",
    "                \n",
    "    # Método para decodificar la solución \n",
    "    def decodificar_solucion(self, solucion):\n",
    "        pass\n",
    "    \n",
    "    # Identificar bahías\n",
    "    def identificar_bahias(self, solucion):\n",
    "        \n",
    "    \n",
    "    # Calcular dimensiones de lados y centroides de los departamentos"
   ]
  },
  {
   "cell_type": "markdown",
   "id": "5999c12a",
   "metadata": {},
   "source": [
    "## 2. Algoritmo de Optimización de Lobo Gris Discreto (DGWO)"
   ]
  },
  {
   "cell_type": "code",
   "execution_count": null,
   "id": "fddab654",
   "metadata": {},
   "outputs": [],
   "source": []
  }
 ],
 "metadata": {
  "kernelspec": {
   "display_name": "Python 3 (ipykernel)",
   "language": "python",
   "name": "python3"
  },
  "language_info": {
   "codemirror_mode": {
    "name": "ipython",
    "version": 3
   },
   "file_extension": ".py",
   "mimetype": "text/x-python",
   "name": "python",
   "nbconvert_exporter": "python",
   "pygments_lexer": "ipython3",
   "version": "3.10.1"
  }
 },
 "nbformat": 4,
 "nbformat_minor": 5
}
