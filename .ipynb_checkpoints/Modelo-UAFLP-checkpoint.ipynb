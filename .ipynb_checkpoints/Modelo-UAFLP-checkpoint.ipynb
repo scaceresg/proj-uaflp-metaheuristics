{
 "cells": [
  {
   "cell_type": "markdown",
   "id": "b931c588",
   "metadata": {},
   "source": [
    "## Modelo para el UAFLP usando Python"
   ]
  },
  {
   "cell_type": "code",
   "execution_count": 1,
   "id": "fc3b6c05",
   "metadata": {},
   "outputs": [],
   "source": [
    "import numpy as np\n",
    "import matplotlib.pyplot as plt"
   ]
  },
  {
   "cell_type": "markdown",
   "id": "a7dfefc1",
   "metadata": {},
   "source": [
    "### Entrada de datos y vector de soluciones\n",
    "\n",
    "Usualmente, los problemas de UAFLP cuentan con la siguiente información de entrada:\n",
    "\n",
    "**Información de entrada**\n",
    "\n",
    "* `n_dptos`: El número de departamentos a ubicar en la instalación ($n$)\n",
    "* `areas`: El área total de cada uno de los departamentos a ubicar en la instalación: `[a1, a2, ..., an]`\n",
    "* `fl_materiales`: Matriz $n\\times n$ con los flujos de materiales entre departamentos. Por ejemplo:\n",
    "\n",
    "| Desde-Hacia | Dpto1 | Dpto2 | Dpto3 |\n",
    "|-------------|-------|-------|-------|\n",
    "| Dpto1       |   0   |   2   |   0   |\n",
    "| Dpto2       |   5   |   0   |   0   |\n",
    "| Dpto3       |   6   |   5   |   0   |\n",
    "\n",
    "* `lados_inst`: Las dimensiones de la instalación: `[ancho, largo]`, en donde `(ancho * largo) >= sum(areas)`\n",
    "* `max_rel_asp`: Hace referencia a la relación de aspecto $\\alpha_i$ de cada uno de los departamentos en la instalación, en donde:\n",
    "\n",
    "$$\n",
    "\\alpha_i = \\frac{\\max\\{w_i, h_i\\}}{\\min\\{w_i, h_i\\}} \n",
    "$$\n",
    "\n",
    "en donde:\n",
    "\n",
    "$\\alpha_i$ es la relación o tasa de aspecto del departamento $i$. Usualmente $\\alpha_i > 4$\n",
    "\n",
    "$w_i$ es el ancho del departamento $i$\n",
    "\n",
    "$h_i$ es el largo del departamento $i$\n",
    "\n",
    "\n",
    "* `nom_dpts`: Los nombres de los departamentos en la instalación, si los hay.\n",
    "\n",
    "* `costo_unit`: El costo unitario de manejo de materiales, si lo hay. En caso de que no se de, se supone `costo_unit = 1.0`\n",
    "\n",
    "**Vector de solución**\n",
    "\n",
    "* `sol`: Está dado por un `array` que incluye un vector para el orden en que los departamentos son ubicados en el plano de planta y un vector para la ubicación en que se generan las bahías en la estructura *FBS*: `[[departamentos], [bahias]]`\n",
    "\n",
    "- p.e. `[[1, 2, 3, 4, 5], [0, 1, 1, 0, 1]]`\n",
    "\n",
    "El último número del componente `[bahias]` siempre debe ser igual a `1`: `[0, 1, 1, 0, 1]`"
   ]
  },
  {
   "cell_type": "markdown",
   "id": "f7871fc0",
   "metadata": {},
   "source": [
    "### Datos de entrada - Problema pequeño #1\n",
    "\n",
    "Ejemplo #1"
   ]
  },
  {
   "cell_type": "code",
   "execution_count": null,
   "id": "ff06cada",
   "metadata": {},
   "outputs": [],
   "source": [
    "n_dptos = 3\n",
    "departamentos = np.arange(1, n_dptos + 1)\n",
    "areas = np.array([2, 4, 2]) \n",
    "fl_materiales = np.array([[0, 0, 0],   \n",
    "                          [5, 0, 0],\n",
    "                          [3, 5, 0]])\n",
    "lados_inst = np.array([4, 2]) # ancho, largo\n",
    "max_rel_asp = 5\n",
    "nom_dpts = ['dpt1', 'dpt2', 'dpt3']\n",
    "costo_unit = None"
   ]
  },
  {
   "cell_type": "markdown",
   "id": "e622465a",
   "metadata": {},
   "source": [
    "### Ejemplo de solución - Problema pequeño #1\n",
    "\n",
    "Solución del ejemplo #1"
   ]
  },
  {
   "cell_type": "code",
   "execution_count": null,
   "id": "77a73b5a",
   "metadata": {},
   "outputs": [],
   "source": [
    "sol = np.array([[2, 1, 3], [1, 0, 1]])"
   ]
  },
  {
   "cell_type": "markdown",
   "id": "61ff113f",
   "metadata": {},
   "source": [
    "### Datos de entrada - Problema mediano #2\n",
    "\n",
    "Ejemplo #2 - Instancia O7"
   ]
  },
  {
   "cell_type": "code",
   "execution_count": 2,
   "id": "8d81e3df",
   "metadata": {},
   "outputs": [],
   "source": [
    "n_dptos = 7\n",
    "departamentos = np.arange(1, n_dptos + 1)\n",
    "areas = np.array([16, 16, 16, 36, 9, 9, 9])\n",
    "fl_materiales = np.array([[0, 0, 0, 0, 0, 0, 0],\n",
    "                          [0, 0, 0, 0, 0, 0, 0],\n",
    "                          [0, 0, 0, 0, 0, 0, 0],\n",
    "                          [5, 3, 2, 0, 0, 0, 0],\n",
    "                          [0, 0, 0, 4, 0, 0, 0],\n",
    "                          [0, 0, 0, 4, 0, 0, 0],\n",
    "                          [1, 1, 1, 0, 2, 1, 0]])\n",
    "lados_inst = np.array([8.54, 13]) # ancho, largo\n",
    "max_rel_asp = 4\n",
    "nom_dpts = ['dpt1', 'dpt2', 'dpt3', 'dpt4', 'dpt5', 'dpt6', 'dpt7']\n",
    "costo_unit = None"
   ]
  },
  {
   "cell_type": "markdown",
   "id": "c42ecf00",
   "metadata": {},
   "source": [
    "### Ejemplo de solución - Problema mediano #2\n",
    "\n",
    "Solución del ejemplo #2"
   ]
  },
  {
   "cell_type": "code",
   "execution_count": 3,
   "id": "5faca3bb",
   "metadata": {},
   "outputs": [],
   "source": [
    "sol = np.array([[3, 5, 7, 1, 4, 6, 2], \n",
    "                [0, 0, 1, 0, 0, 0, 1]])"
   ]
  },
  {
   "cell_type": "markdown",
   "id": "69d7a99b",
   "metadata": {},
   "source": [
    "### Datos de entrada - Problema grande #3\n",
    "\n",
    "Ejemplo #3 - Empresa de confección de prendas de vestir"
   ]
  },
  {
   "cell_type": "code",
   "execution_count": null,
   "id": "debadf38",
   "metadata": {},
   "outputs": [],
   "source": [
    "n_dptos = 11\n",
    "departamentos = np.arange(1, n_dptos + 1)\n",
    "areas = np.array([50.00, 195.50, 83.27, 100.39, 67.20, 153.00, \n",
    "                  153.00, 131.25, 52.90, 52.90, 100.00])\n",
    "fl_materiales = np.array([[  0,   0,   0,   0, 0,   0, 0, 0, 0, 0, 0],\n",
    "                          [  0,   0,   0,   0, 0,   0, 0, 0, 0, 0, 0],\n",
    "                          [  0, 110,   0,   0, 0,   0, 0, 0, 0, 0, 0],\n",
    "                          [  0, 110,   0,   0, 0,   0, 0, 0, 0, 0, 0],\n",
    "                          [  0,   0,   0,   0, 0,   0, 0, 0, 0, 0, 0],\n",
    "                          [110,   0,   0,   0, 0,   0, 0, 0, 0, 0, 0],\n",
    "                          [110,   0,   0, 110, 0,   0, 0, 0, 0, 0, 0],\n",
    "                          [  0,   0, 110,   0, 0, 110, 0, 0, 0, 0, 0],\n",
    "                          [ 11,   0,   0,  11, 0,   0, 0, 0, 0, 0, 0],\n",
    "                          [  0,   0,   0,   0, 4,   0, 0, 0, 4, 0, 0],\n",
    "                          [  0,   2,   2,   2, 1,   0, 0, 2, 1, 1, 0]])\n",
    "lados_inst = np.array([25.00, 45.60]) # ancho, largo\n",
    "max_rel_asp = 4\n",
    "nom_dpts = ['Recepción', 'Confección', 'Estampado', 'Terminación', \n",
    "            'Administrativa', 'Almacén MP', 'Almacén PT', 'Corte',\n",
    "            'Calidad', 'Diseño', 'Descanso']\n",
    "costo_unit = None"
   ]
  },
  {
   "cell_type": "markdown",
   "id": "52b13a82",
   "metadata": {},
   "source": [
    "### Ejemplo de solución - Problema grande #3\n",
    "\n",
    "Solución del ejemplo #3"
   ]
  },
  {
   "cell_type": "code",
   "execution_count": null,
   "id": "949d36d2",
   "metadata": {},
   "outputs": [],
   "source": [
    "sol = np.array([[3, 5, 7, 1, 4, 6, 2], # codificacion/ encoding\n",
    "                [0, 0, 1, 0, 0, 0, 1]])"
   ]
  },
  {
   "cell_type": "markdown",
   "id": "9c41f380",
   "metadata": {},
   "source": [
    "### Decodificación de la solución\n",
    "\n",
    "Decodificar la solución consiste en convertir el vector de solución, por ejemplo, `[[2, 1, 3], [1, 0, 1]]` en una solución del problema, es decir, un plano de planta con la distribución de los departamentos.\n",
    "\n",
    "Para decodificar una solución para el UAFLP, usaremos la *Estructura de Bahías Flexibles* (**Flexible Bay Structure, FBS**). En este sentido, la decodificación toma dos pasos:\n",
    "\n",
    "1. *Identificar los departamentos dentro de cada bahía*: Esto implica tomar el vector de solución y extraer los departamentos que pertenecen a cada bahía, así como las bahías mismas.\n",
    "\n",
    "2. *Calcular las dimensiones y centroides de los departamentos en cada bahía*: Este paso implica determinar las dimensiones de ancho y largo ($w_i, h_i$), así como la ubicación del punto centroide ($x, y$) de cada departamento."
   ]
  },
  {
   "cell_type": "markdown",
   "id": "b8a1eb34",
   "metadata": {},
   "source": [
    "### Paso 1. Identificar los departamentos en cada bahia"
   ]
  },
  {
   "cell_type": "code",
   "execution_count": 4,
   "id": "99676cc8",
   "metadata": {},
   "outputs": [],
   "source": [
    "# Decodificar solucion\n",
    "# Paso 1. Identificar dptos en bahias\n",
    "bahias = []\n",
    "dpts_bahias = []\n",
    "\n",
    "for ind, bah in enumerate(sol[1]):\n",
    "    \n",
    "    dpto = sol[0, ind]\n",
    "    if ind == 0 or bah == 0:\n",
    "        dpts_bahias.append(dpto)\n",
    "        if bah == 1:\n",
    "            bahias.append(dpts_bahias)\n",
    "            dpts_bahias = []\n",
    "    elif bah == 1:\n",
    "        dpts_bahias.append(dpto)\n",
    "        bahias.append(dpts_bahias)\n",
    "        dpts_bahias = []"
   ]
  },
  {
   "cell_type": "code",
   "execution_count": 5,
   "id": "f208d51e",
   "metadata": {},
   "outputs": [
    {
     "data": {
      "text/plain": [
       "[[3, 5, 7], [1, 4, 6, 2]]"
      ]
     },
     "execution_count": 5,
     "metadata": {},
     "output_type": "execute_result"
    }
   ],
   "source": [
    "bahias"
   ]
  },
  {
   "cell_type": "markdown",
   "id": "5b3d26b6",
   "metadata": {},
   "source": [
    "### Paso 2. Calcular las dimensiones y centros de departamentos por bahia"
   ]
  },
  {
   "cell_type": "code",
   "execution_count": 6,
   "id": "48d3393f",
   "metadata": {},
   "outputs": [],
   "source": [
    "# Paso 2. Calcular dimensiones y centros de departamentos por bahia\n",
    "lados_dptos = []\n",
    "centros_dptos = []\n",
    "\n",
    "contador_ancho = 0\n",
    "for bah in bahias:\n",
    "    dim_dpto = []\n",
    "    x_y_dpto = []\n",
    "    area_bahia = 0\n",
    "    \n",
    "    for dp in bah:\n",
    "        area_bahia += areas[dp-1]\n",
    "    \n",
    "    ancho_bahia = area_bahia / lados_inst[1]\n",
    "    contador_largo = 0\n",
    "    for dp in bah:\n",
    "        largo_dpto = areas[dp-1] / ancho_bahia\n",
    "        dim_dpto.append([ancho_bahia, largo_dpto])\n",
    "        centro_x = contador_ancho + ancho_bahia / 2\n",
    "        centro_y = contador_largo + largo_dpto / 2\n",
    "        x_y_dpto.append([centro_x, centro_y])\n",
    "        contador_largo += largo_dpto\n",
    "    \n",
    "    lados_dptos.append(dim_dpto)\n",
    "    centros_dptos.append(x_y_dpto)\n",
    "    contador_ancho += ancho_bahia"
   ]
  },
  {
   "cell_type": "code",
   "execution_count": 7,
   "id": "c5cbae97",
   "metadata": {},
   "outputs": [
    {
     "data": {
      "text/plain": [
       "[[[2.6153846153846154, 6.117647058823529],\n",
       "  [2.6153846153846154, 3.441176470588235],\n",
       "  [2.6153846153846154, 3.441176470588235]],\n",
       " [[5.923076923076923, 2.7012987012987013],\n",
       "  [5.923076923076923, 6.077922077922078],\n",
       "  [5.923076923076923, 1.5194805194805194],\n",
       "  [5.923076923076923, 2.7012987012987013]]]"
      ]
     },
     "execution_count": 7,
     "metadata": {},
     "output_type": "execute_result"
    }
   ],
   "source": [
    "lados_dptos"
   ]
  },
  {
   "cell_type": "code",
   "execution_count": 8,
   "id": "bbb70b82",
   "metadata": {},
   "outputs": [
    {
     "data": {
      "text/plain": [
       "[[[1.3076923076923077, 3.0588235294117645],\n",
       "  [1.3076923076923077, 7.838235294117647],\n",
       "  [1.3076923076923077, 11.279411764705882]],\n",
       " [[5.576923076923077, 1.3506493506493507],\n",
       "  [5.576923076923077, 5.74025974025974],\n",
       "  [5.576923076923077, 9.53896103896104],\n",
       "  [5.576923076923077, 11.649350649350648]]]"
      ]
     },
     "execution_count": 8,
     "metadata": {},
     "output_type": "execute_result"
    }
   ],
   "source": [
    "centros_dptos"
   ]
  },
  {
   "cell_type": "markdown",
   "id": "78a968f5",
   "metadata": {},
   "source": [
    "### Paso 3. Dibujar el layout usando `matplotlib.pyplot`\n",
    "\n",
    "El siguiente paso implica convertir la información de las dimensiones de ancho y largo, y los centroides de cada departamento en un plano de planta. Para ello, se usa el paquete `matplotlib.pyplot`. El resultado es un plot con la ubicación de los departamentos ubicados en el layout, de acuerdo con la solución dada."
   ]
  },
  {
   "cell_type": "code",
   "execution_count": 9,
   "id": "dbcee8f5",
   "metadata": {},
   "outputs": [
    {
     "data": {
      "image/png": "[encoded data removed]",
      "text/plain": [
       "<Figure size 1200x1800 with 1 Axes>"
      ]
     },
     "metadata": {},
     "output_type": "display_data"
    }
   ],
   "source": [
    "fig = plt.figure(dpi=300, figsize=(4, 6))\n",
    "plt.rcParams.update({'font.size': 6})\n",
    "ax = fig.add_subplot(111)\n",
    "ax.set_xlim([0, lados_inst[0]])\n",
    "ax.set_ylim([0, lados_inst[1]])\n",
    "ax.set_xticks([0, lados_inst[0]])\n",
    "ax.set_yticks([0, lados_inst[1]])\n",
    "\n",
    "esq_x = 0\n",
    "for ind, bah in enumerate(bahias):\n",
    "    lds_bah = lados_dptos[ind]\n",
    "    cnt_bah = centros_dptos[ind]\n",
    "    \n",
    "    esq_y = 0\n",
    "    for inx, dpt in enumerate(bah):\n",
    "        rect = plt.Rectangle((esq_x, esq_y), width=lds_bah[inx][0],\n",
    "                            height=lds_bah[inx][1], facecolor='white',\n",
    "                            edgecolor='black')\n",
    "        plt.text(cnt_bah[inx][0], cnt_bah[inx][1], f'{nom_dpts[dpt-1]}',\n",
    "                horizontalalignment='center', verticalalignment='top')\n",
    "        plt.plot(cnt_bah[inx][0], cnt_bah[inx][1], color='black', \n",
    "                 marker=None, markersize=2)\n",
    "        ax.add_patch(rect)\n",
    "        \n",
    "        esq_y += lds_bah[inx][1]\n",
    "    \n",
    "    esq_x += lds_bah[inx][0]\n",
    "plt.show()"
   ]
  },
  {
   "cell_type": "markdown",
   "id": "ad340456",
   "metadata": {},
   "source": [
    "### Paso 4. Calcular el costo de manejo de materiales entre departamentos (función *fitness*)\n",
    "\n",
    "\n",
    "#### Costo total de manejo de materiales, MHC\n",
    "\n",
    "El costo total de manejo de materiales entre departamentos $\\text{MHC}$ está dado por:\n",
    "\n",
    "$$\n",
    "\\text{MHC} = \\sum_i^n \\sum_j^n c_{ij}f_{ij}d_{ij}\n",
    "$$\n",
    "\n",
    "`MHC = costo_unit (matriz) * fl_materiales * distancias`\n",
    "\n",
    "en donde:\n",
    "\n",
    "$n$ es el número de departamentos en la instalación. En el código está representado por `n_dptos`.\n",
    "\n",
    "$i, j$ son los índices para los departamentos\n",
    "\n",
    "$c_{ij}$ es el costo de manejo de materiales por unidad de flujo por unidad de distancia recorrida entre los departamentos $i$ y $j$. En el código está representado por `costo_unit`.\n",
    "\n",
    "$f_{ij}$ es el flujo total de materiales entre los departamentos $i$ y $j$. En el código está representado por `fl_materiales`.\n",
    "\n",
    "$d_{ij}$ es la distancia *rectilínea* recorrida entre los centroides $(x_i, y_i)$ y $(x_j, y_j)$ de los departamentos $i$ y $j$, en donde distancia rectilínea está definida por la siguiente expresión:\n",
    "\n",
    "$$\n",
    "d_{ij} = |x_i - x_j| + |y_i - y_j| \\quad\\forall\\quad i, j\n",
    "$$\n",
    "\n",
    "En el código está representado por `distancias`"
   ]
  },
  {
   "cell_type": "markdown",
   "id": "fd934a26",
   "metadata": {},
   "source": [
    "#### La relación o tasa de aspecto"
   ]
  },
  {
   "cell_type": "markdown",
   "id": "9990bf58",
   "metadata": {},
   "source": [
    "Sin embargo, todo departamento $i$ en la instalación **debe cumplir con una restricción de aspecto (relación de aspecto, $\\alpha_i$)**, la cual está dada como el máximo ratio permisible entre las dimensiones más largas y cortas del mismo, así:\n",
    "\n",
    "$$\n",
    "\\alpha_i = \\frac{\\max\\{w_i, h_i\\}}{\\min\\{w_i, h_i\\}}\n",
    "$$\n",
    "\n",
    "en donde:\n",
    "\n",
    "$\\alpha_i$ es la relación o tasa de aspecto del departamento $i$. Usualmente $\\alpha_i > 4$. En el código está representado por `max_rel_asp`.\n",
    "\n",
    "$w_i$ es el ancho del departamento $i$. En el código está representado por `lados[i][0]`.\n",
    "\n",
    "$h_i$ es el largo del departamento $i$. En el código está representado por `lados[i][1]`\n",
    "\n",
    "La restricción indica que $\\alpha_i$ debe ser mayor o igual a un entero dado (por ejemplo, 1 o 5). Se dice entonces que si al menos uno de los departamentos de la instalación no cumple con esta restricción, la distribución final de la instalación es *inviable* (**unfeasible**)"
   ]
  },
  {
   "cell_type": "markdown",
   "id": "e00f4417",
   "metadata": {},
   "source": [
    "#### Función fitness"
   ]
  },
  {
   "cell_type": "markdown",
   "id": "914ce61b",
   "metadata": {},
   "source": [
    "Por lo tanto, la **función fitness** está dada por el $\\text{MHC}$ y una penalización dada por los departamentos que incumplen la restricción de la relación de aspecto, así:\n",
    "\n",
    "$$\n",
    "\\text{fitness} = \\text{MHC} + \\text{penalización}\n",
    "$$\n",
    "\n",
    "Esta penalización puede definirse de varias maneras. La literatura sobre el UAFLP menciona que esta penalización puede calcularse con la siguiente expresión:\n",
    "\n",
    "$$\n",
    "\\text{fitness} = \\text{MHC} + (D_{inf})^k(V_{feas} - V_{all})\n",
    "$$\n",
    "\n",
    "Es decir,\n",
    "\n",
    "$$\n",
    "\\text{fitness} = \\sum_i^n \\sum_j^n c_{ij}f_{ij}d_{ij} + (D_{inf})^k (V_{feas} - V_{all})\n",
    "$$\n",
    "\n",
    "En donde:\n",
    "\n",
    "$D_{inf}$ es el número de departamentos inviables. En el código está representado por `no_factibles`.\n",
    "\n",
    "$k$ es el valor de ajuste en el grado de penalización ($k = 3$ de acuerdo con Tate and Smith (1995))\n",
    "\n",
    "$V_{feas}$ es el valor mínimo de la función fitness encontrado para los layouts viables (es decir, sin departamentos inviables)\n",
    "\n",
    "$V_{all}$ es el valor mínimo de la función fitness encontrado para todos los layouts\n",
    "\n",
    "\n",
    "Otra manera más sencilla de penalizar es simplemente utilizando el valor de *MHC* como valor de penalización:\n",
    "\n",
    "$$\n",
    "\\text{fitness} = \\text{MHC} + (D_{inf})^k \\text{MHC}\n",
    "$$"
   ]
  },
  {
   "cell_type": "code",
   "execution_count": 10,
   "id": "198c5d88",
   "metadata": {},
   "outputs": [],
   "source": [
    "# Calculo de la funcion fitness\n",
    "# Costo unitario de manejo\n",
    "if costo_unit == None:\n",
    "    costo_unit = np.ones((n_dptos, n_dptos))\n",
    "else:\n",
    "    costo_unit = np.full((n_dptos, n_dptos), costo_unit)"
   ]
  },
  {
   "cell_type": "code",
   "execution_count": 11,
   "id": "5d92c807",
   "metadata": {},
   "outputs": [
    {
     "data": {
      "text/plain": [
       "array([[1., 1., 1., 1., 1., 1., 1.],\n",
       "       [1., 1., 1., 1., 1., 1., 1.],\n",
       "       [1., 1., 1., 1., 1., 1., 1.],\n",
       "       [1., 1., 1., 1., 1., 1., 1.],\n",
       "       [1., 1., 1., 1., 1., 1., 1.],\n",
       "       [1., 1., 1., 1., 1., 1., 1.],\n",
       "       [1., 1., 1., 1., 1., 1., 1.]])"
      ]
     },
     "execution_count": 11,
     "metadata": {},
     "output_type": "execute_result"
    }
   ],
   "source": [
    "costo_unit"
   ]
  },
  {
   "cell_type": "code",
   "execution_count": 12,
   "id": "2cfd2147",
   "metadata": {},
   "outputs": [],
   "source": [
    "# Aplanar listas de centroides\n",
    "dptos = sol[0]\n",
    "centros = [0] * n_dptos\n",
    "cnts = [cn for dpts in centros_dptos for cn in dpts]\n",
    "\n",
    "for cn, dp in zip(cnts, dptos):\n",
    "    centros[dp-1] = cn"
   ]
  },
  {
   "cell_type": "code",
   "execution_count": 13,
   "id": "23beb81d",
   "metadata": {},
   "outputs": [
    {
     "data": {
      "text/plain": [
       "[[5.576923076923077, 1.3506493506493507],\n",
       " [5.576923076923077, 11.649350649350648],\n",
       " [1.3076923076923077, 3.0588235294117645],\n",
       " [5.576923076923077, 5.74025974025974],\n",
       " [1.3076923076923077, 7.838235294117647],\n",
       " [5.576923076923077, 9.53896103896104],\n",
       " [1.3076923076923077, 11.279411764705882]]"
      ]
     },
     "execution_count": 13,
     "metadata": {},
     "output_type": "execute_result"
    }
   ],
   "source": [
    "centros"
   ]
  },
  {
   "cell_type": "code",
   "execution_count": 14,
   "id": "87f58eba",
   "metadata": {},
   "outputs": [
    {
     "data": {
      "text/plain": [
       "array([[ 0.        ,  0.        ,  0.        ,  0.        ,  0.        ,\n",
       "         0.        ,  0.        ],\n",
       "       [10.2987013 ,  0.        ,  0.        ,  0.        ,  0.        ,\n",
       "         0.        ,  0.        ],\n",
       "       [ 5.97740495, 12.85975789,  0.        ,  0.        ,  0.        ,\n",
       "         0.        ,  0.        ],\n",
       "       [ 4.38961039,  5.90909091,  6.95066698,  0.        ,  0.        ,\n",
       "         0.        ,  0.        ],\n",
       "       [10.75681671,  8.08034612,  4.77941176,  6.36720632,  0.        ,\n",
       "         0.        ,  0.        ],\n",
       "       [ 8.18831169,  2.11038961, 10.74936828,  3.7987013 ,  5.96995651,\n",
       "         0.        ,  0.        ],\n",
       "       [14.19799318,  4.63916965,  8.22058824,  9.80838279,  3.44117647,\n",
       "         6.00968149,  0.        ]])"
      ]
     },
     "execution_count": 14,
     "metadata": {},
     "output_type": "execute_result"
    }
   ],
   "source": [
    "# Calcular distancias entre dptos\n",
    "distancias = np.zeros((n_dptos, n_dptos))\n",
    "\n",
    "for i in departamentos:\n",
    "    for j in departamentos[i:]:\n",
    "        rect_dist_x = np.abs(centros[i-1][0] - centros[j-1][0])\n",
    "        rect_dist_y = np.abs(centros[i-1][1] - centros[j-1][1])\n",
    "        \n",
    "        distancias[j-1, i-1] = rect_dist_x + rect_dist_y\n",
    "\n",
    "distancias"
   ]
  },
  {
   "cell_type": "code",
   "execution_count": 15,
   "id": "63c48b08",
   "metadata": {},
   "outputs": [
    {
     "data": {
      "text/plain": [
       "134.1900746312511"
      ]
     },
     "execution_count": 15,
     "metadata": {},
     "output_type": "execute_result"
    }
   ],
   "source": [
    "# Calcular costo de manejo de materiales, MHC\n",
    "mhc = np.sum(costo_unit * fl_materiales * distancias)\n",
    "mhc"
   ]
  },
  {
   "cell_type": "code",
   "execution_count": 16,
   "id": "3016f299",
   "metadata": {},
   "outputs": [
    {
     "data": {
      "text/plain": [
       "[[5.923076923076923, 2.7012987012987013],\n",
       " [5.923076923076923, 2.7012987012987013],\n",
       " [2.6153846153846154, 6.117647058823529],\n",
       " [5.923076923076923, 6.077922077922078],\n",
       " [2.6153846153846154, 3.441176470588235],\n",
       " [5.923076923076923, 1.5194805194805194],\n",
       " [2.6153846153846154, 3.441176470588235]]"
      ]
     },
     "execution_count": 16,
     "metadata": {},
     "output_type": "execute_result"
    }
   ],
   "source": [
    "# Aplanar lista de lados\n",
    "lados = [0] * n_dptos\n",
    "lds = [ld for dpts in lados_dptos for ld in dpts]\n",
    "\n",
    "for ld, dp in zip(lds, dptos):\n",
    "    lados[dp-1] = ld\n",
    "    \n",
    "lados"
   ]
  },
  {
   "cell_type": "code",
   "execution_count": 17,
   "id": "681df1f7",
   "metadata": {},
   "outputs": [],
   "source": [
    "# Calcular function fitness = MHC + penalty\n",
    "# fitness = MHC + Dinf^k * MHC\n",
    "k_param = 3 # Sugerido por Tate and Smith (1995)\n",
    "\n",
    "no_factibles = 0 # Departamentos con \\alpha > max_rel_asp\n",
    "\n",
    "for i in dptos:\n",
    "    tasa_aspecto = max(lados[i-1][0], lados[i-1][1])/min(lados[i-1][0], lados[i-1][1])\n",
    "    \n",
    "    if tasa_aspecto > max_rel_asp:\n",
    "        no_factibles += 1\n",
    "        \n",
    "fitness = mhc + (no_factibles ** k_param) * mhc"
   ]
  },
  {
   "cell_type": "code",
   "execution_count": 18,
   "id": "3c5f1a21",
   "metadata": {},
   "outputs": [
    {
     "data": {
      "text/plain": [
       "134.1900746312511"
      ]
     },
     "execution_count": 18,
     "metadata": {},
     "output_type": "execute_result"
    }
   ],
   "source": [
    "fitness"
   ]
  },
  {
   "cell_type": "code",
   "execution_count": 19,
   "id": "7d07796b",
   "metadata": {},
   "outputs": [
    {
     "data": {
      "text/plain": [
       "0"
      ]
     },
     "execution_count": 19,
     "metadata": {},
     "output_type": "execute_result"
    }
   ],
   "source": [
    "no_factibles"
   ]
  },
  {
   "cell_type": "code",
   "execution_count": null,
   "id": "bd6f7fff",
   "metadata": {},
   "outputs": [],
   "source": []
  }
 ],
 "metadata": {
  "kernelspec": {
   "display_name": "Python 3 (ipykernel)",
   "language": "python",
   "name": "python3"
  },
  "language_info": {
   "codemirror_mode": {
    "name": "ipython",
    "version": 3
   },
   "file_extension": ".py",
   "mimetype": "text/x-python",
   "name": "python",
   "nbconvert_exporter": "python",
   "pygments_lexer": "ipython3",
   "version": "3.10.4"
  }
 },
 "nbformat": 4,
 "nbformat_minor": 5
}
