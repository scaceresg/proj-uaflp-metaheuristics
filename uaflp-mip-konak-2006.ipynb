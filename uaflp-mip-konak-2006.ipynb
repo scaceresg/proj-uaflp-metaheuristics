{
 "cells": [
  {
   "cell_type": "markdown",
   "metadata": {},
   "source": [
    "## UAFLP Formulations by Konak et al. (2006)"
   ]
  },
  {
   "cell_type": "code",
   "execution_count": null,
   "metadata": {},
   "outputs": [],
   "source": [
    "import numpy as np\n",
    "from docplex.mp.model import Model"
   ]
  },
  {
   "cell_type": "markdown",
   "metadata": {},
   "source": [
    "### Data Instances:"
   ]
  },
  {
   "cell_type": "code",
   "execution_count": null,
   "metadata": {},
   "outputs": [],
   "source": [
    "# Input data: Instance O7\n",
    "n_dpts = 7\n",
    "max_bays = np.arange(1, 10)\n",
    "dpts = np.arange(1, n_dpts + 1)\n",
    "# width = 13\n",
    "# height = 8.54\n",
    "width = 8.54\n",
    "height = 13\n",
    "dp_areas = np.array([16, 16, 16, 36, 9, 9, 9])\n",
    "asp_ratio = np.array([4]*n_dpts)\n",
    "max_side = np.minimum(np.array([height]*n_dpts), np.sqrt(asp_ratio*dp_areas))\n",
    "min_side = np.sqrt(dp_areas/asp_ratio)\n",
    "mat_flows = np.array([[0,  0,  0,  0,  0,  0,  0],\n",
    "                      [0,  0,  0,  0,  0,  0,  0],\n",
    "                      [0,  0,  0,  0,  0,  0,  0],\n",
    "                      [5,  3,  2,  0,  0,  0,  0],\n",
    "                      [0,  0,  0,  4,  0,  0,  0],\n",
    "                      [0,  0,  0,  4,  0,  0,  0],\n",
    "                      [1,  1,  1,  0,  2,  1,  0]])\n",
    "\n",
    "mat_flows = mat_flows.transpose()"
   ]
  },
  {
   "cell_type": "code",
   "execution_count": null,
   "metadata": {},
   "outputs": [],
   "source": [
    "# Input data: Instance O8\n",
    "n_dpts = 8\n",
    "max_bays = np.arange(1, 10)\n",
    "dpts = np.arange(1, n_dpts + 1)\n",
    "width = 11.31\n",
    "height = 13\n",
    "dp_areas = np.array([16, 16, 16, 36, 36, 9, 9, 9])\n",
    "asp_ratio = np.array([4]*n_dpts)\n",
    "max_side = np.minimum(np.array([height]*n_dpts), np.sqrt(asp_ratio*dp_areas))\n",
    "min_side = np.sqrt(dp_areas/asp_ratio)\n",
    "mat_flows = np.array([[0,  0,  0,  0,  0,  0,  0,  0],\n",
    "                      [0,  0,  0,  0,  0,  0,  0,  0],\n",
    "                      [0,  0,  0,  0,  0,  0,  0,  0],\n",
    "                      [5,  3,  2,  0,  0,  0,  0,  0],\n",
    "                      [5,  3,  2,  0,  0,  0,  0,  0],\n",
    "                      [0,  0,  0,  4,  3,  0,  0,  0],\n",
    "                      [0,  0,  0,  4,  0,  0,  0,  0],\n",
    "                      [1,  1,  1,  0,  4,  2,  1,  0]])\n",
    "\n",
    "mat_flows = mat_flows.transpose()"
   ]
  },
  {
   "cell_type": "code",
   "execution_count": null,
   "metadata": {},
   "outputs": [],
   "source": [
    "# Input data: Instance O9\n",
    "n_dpts = 9\n",
    "max_bays = np.arange(1, 10)\n",
    "dpts = np.arange(1, n_dpts + 1)\n",
    "width = 12\n",
    "height = 13\n",
    "dp_areas = np.array([16, 16, 16, 36, 36, 9, 9, 9, 9])\n",
    "asp_ratio = np.array([4]*n_dpts)\n",
    "max_side = np.minimum(np.array([height]*n_dpts), np.sqrt(asp_ratio*dp_areas))\n",
    "min_side = np.sqrt(dp_areas/asp_ratio)\n",
    "mat_flows = np.array([[0,  0,  0,  0,  0,  0,  0,  0,  0],\n",
    "                      [0,  0,  0,  0,  0,  0,  0,  0,  0],\n",
    "                      [0,  0,  0,  0,  0,  0,  0,  0,  0],\n",
    "                      [5,  3,  2,  0,  0,  0,  0,  0,  0],\n",
    "                      [5,  3,  2,  0,  0,  0,  0,  0,  0],\n",
    "                      [0,  0,  0,  4,  3,  0,  0,  0,  0],\n",
    "                      [0,  0,  0,  4,  0,  0,  0,  0,  0],\n",
    "                      [0,  0,  0,  0,  0,  0,  0,  0,  0],\n",
    "                      [1,  1,  1,  0,  4,  2,  1,  0,  0]])\n",
    "\n",
    "mat_flows = mat_flows.transpose()"
   ]
  },
  {
   "cell_type": "markdown",
   "metadata": {},
   "source": [
    "### MIP-FSBP Formulation"
   ]
  },
  {
   "cell_type": "code",
   "execution_count": null,
   "metadata": {},
   "outputs": [],
   "source": [
    "# Define UAFLP-MIP model\n",
    "uaflp_mip = Model('UAFLP-MIP-KONAK-2006')\n",
    "\n",
    "# Add variables\n",
    "zs = {(i, k): uaflp_mip.binary_var(name=f'z_{i}_{k}')\\\n",
    "      for i in dpts for k in max_bays}\n",
    "\n",
    "rs = {(i, j): uaflp_mip.binary_var(name=f'r_{i}_{j}')\\\n",
    "      for i in dpts for j in dpts}\n",
    "\n",
    "ds = {(k): uaflp_mip.binary_var(name=f'd_{k}')\\\n",
    "      for k in max_bays}\n",
    "\n",
    "w = {(k): uaflp_mip.continuous_var(name=f'w_{k}', lb=0)\\\n",
    "      for k in max_bays}\n",
    "\n",
    "ly = {(i): uaflp_mip.continuous_var(name=f'l_y_{i}', lb=0)\\\n",
    "      for i in dpts}\n",
    "\n",
    "h = {(i, k): uaflp_mip.continuous_var(name=f'h_{i}_{k}', lb=0)\\\n",
    "       for i in dpts for k in max_bays}\n",
    "\n",
    "x = {(i): uaflp_mip.continuous_var(name=f'x_{i}', lb=0)\\\n",
    "      for i in dpts}\n",
    "\n",
    "y = {(i): uaflp_mip.continuous_var(name=f'y_{i}', lb=0)\\\n",
    "      for i in dpts}\n",
    "\n",
    "dx = {(i, j): uaflp_mip.continuous_var(name=f'd_x_{i}_{j}', lb=0)\\\n",
    "        for i in dpts for j in dpts}\n",
    "\n",
    "dy = {(i, j): uaflp_mip.continuous_var(name=f'd_y_{i}_{j}', lb=0)\\\n",
    "        for i in dpts for j in dpts}"
   ]
  },
  {
   "cell_type": "code",
   "execution_count": null,
   "metadata": {},
   "outputs": [],
   "source": [
    "# Add objective function\n",
    "# total_mf_costs = uaflp_mip.linear_expr()\n",
    "\n",
    "# for i in dpts:\n",
    "#     for j in dpts:\n",
    "#         if i < j:\n",
    "#             print(i, j, mat_flows[i-1, j-1])\n",
    "#             total_mf_costs.add_term(dx[i, j], mat_flows[i-1, j-1])\n",
    "#             total_mf_costs.add_term(dy[i, j], mat_flows[i-1, j-1])\n",
    "\n",
    "\n",
    "total_mf_costs = uaflp_mip.sum(uaflp_mip.sum(mat_flows[i-1, j-1] * (dx[i, j] + dy[i, j]) for j in dpts if i < j) for i in dpts)\n",
    "\n",
    "uaflp_mip.minimize(total_mf_costs)"
   ]
  },
  {
   "cell_type": "code",
   "execution_count": null,
   "metadata": {},
   "outputs": [],
   "source": [
    "# Add constraints\n",
    "for i in dpts:\n",
    "    for j in dpts:\n",
    "        if i < j:\n",
    "            uaflp_mip.add_constraint(dx[i, j] >= x[i] - x[j])\n",
    "            uaflp_mip.add_constraint(dx[i, j] >= x[j] - x[i])\n",
    "            uaflp_mip.add_constraint(dy[i, j] >= y[i] - y[j])\n",
    "            uaflp_mip.add_constraint(dy[i, j] >= y[j] - y[i])"
   ]
  },
  {
   "cell_type": "code",
   "execution_count": null,
   "metadata": {},
   "outputs": [],
   "source": [
    "for i in dpts:\n",
    "    uaflp_mip.add_constraint(uaflp_mip.sum(zs[i, k] for k in max_bays) == 1)"
   ]
  },
  {
   "cell_type": "code",
   "execution_count": null,
   "metadata": {},
   "outputs": [],
   "source": [
    "for k in max_bays:\n",
    "    uaflp_mip.add_constraint(w[k] == uaflp_mip.sum(zs[i, k] * dp_areas[i-1] for i in dpts)/height)"
   ]
  },
  {
   "cell_type": "code",
   "execution_count": null,
   "metadata": {},
   "outputs": [],
   "source": [
    "for i in dpts:\n",
    "    for k in max_bays:\n",
    "        uaflp_mip.add_constraint(min_side[i-1] * zs[i, k] <= w[k])\n",
    "        uaflp_mip.add_constraint(w[k] <= max_side[i-1] + width * (1 - zs[i, k]))"
   ]
  },
  {
   "cell_type": "code",
   "execution_count": null,
   "metadata": {},
   "outputs": [],
   "source": [
    "for i in dpts:\n",
    "    for k in max_bays:\n",
    "        uaflp_mip.add_constraint(x[i] >= uaflp_mip.sum(w[j] for j in max_bays if j <= k) - 0.5*w[k] - \\\n",
    "                                 (width - min_side[i-1])*(1 - zs[i, k]))\n",
    "        \n",
    "        uaflp_mip.add_constraint(x[i] <= uaflp_mip.sum(w[j] for j in max_bays if j <= k) - 0.5*w[k] + \\\n",
    "                                 (width - min_side[i-1])*(1 - zs[i, k]))"
   ]
  },
  {
   "cell_type": "code",
   "execution_count": null,
   "metadata": {},
   "outputs": [],
   "source": [
    "for i in dpts:\n",
    "    for j in dpts:\n",
    "        if i < j:\n",
    "            for k in max_bays:\n",
    "                uaflp_mip.add_constraint(h[i, k]/dp_areas[i-1] - h[j, k]/dp_areas[j-1] - \\\n",
    "                                         np.max([max_side[i-1]/dp_areas[i-1], max_side[j-1]/dp_areas[j-1]])*(2 - zs[i, k] - zs[j, k]) <= 0)\n",
    "                uaflp_mip.add_constraint(h[i, k]/dp_areas[i-1] - h[j, k]/dp_areas[j-1] + \\\n",
    "                                         np.max([max_side[i-1]/dp_areas[i-1], max_side[j-1]/dp_areas[j-1]])*(2 - zs[i, k] - zs[j, k]) >= 0)"
   ]
  },
  {
   "cell_type": "code",
   "execution_count": null,
   "metadata": {},
   "outputs": [],
   "source": [
    "for k in max_bays:\n",
    "    uaflp_mip.add_constraint(uaflp_mip.sum(h[i, k] for i in dpts) == height*ds[k])"
   ]
  },
  {
   "cell_type": "code",
   "execution_count": null,
   "metadata": {},
   "outputs": [],
   "source": [
    "for i in dpts:\n",
    "    for k in max_bays:\n",
    "        uaflp_mip.add_constraint(min_side[i-1]*zs[i, k] <= h[i, k])\n",
    "        uaflp_mip.add_constraint(h[i, k] <= max_side[i-1]*zs[i, k])"
   ]
  },
  {
   "cell_type": "code",
   "execution_count": null,
   "metadata": {},
   "outputs": [],
   "source": [
    "for i in dpts:\n",
    "    uaflp_mip.add_constraint(uaflp_mip.sum(h[i, k] for k in max_bays) == ly[i])"
   ]
  },
  {
   "cell_type": "code",
   "execution_count": null,
   "metadata": {},
   "outputs": [],
   "source": [
    "for i in dpts:\n",
    "    for j in dpts:\n",
    "        if i != j:\n",
    "            uaflp_mip.add_constraint(y[i] - 0.5*ly[i] >= y[j] + 0.5*ly[j] - height*(1 - rs[i, j]))"
   ]
  },
  {
   "cell_type": "code",
   "execution_count": null,
   "metadata": {},
   "outputs": [],
   "source": [
    "for i in dpts:\n",
    "    for j in dpts:\n",
    "        if i < j:\n",
    "            uaflp_mip.add_constraint(rs[i, j] + rs[j, i] <= 1)"
   ]
  },
  {
   "cell_type": "code",
   "execution_count": null,
   "metadata": {},
   "outputs": [],
   "source": [
    "for i in dpts:\n",
    "    for j in dpts:\n",
    "        if i < j:\n",
    "            for k in max_bays:\n",
    "                uaflp_mip.add_constraint(rs[i, j] + rs[j, i] >= zs[i, k] + zs[j, k] - 1)"
   ]
  },
  {
   "cell_type": "code",
   "execution_count": null,
   "metadata": {},
   "outputs": [],
   "source": [
    "for i in dpts:\n",
    "    uaflp_mip.add_constraint(0.5*ly[i] <= y[i])\n",
    "    uaflp_mip.add_constraint(y[i] <= height - 0.5*ly[i])"
   ]
  },
  {
   "cell_type": "code",
   "execution_count": null,
   "metadata": {},
   "outputs": [],
   "source": [
    "uaflp_mip.pprint()"
   ]
  },
  {
   "cell_type": "code",
   "execution_count": null,
   "metadata": {},
   "outputs": [],
   "source": [
    "uaflp_sol = uaflp_mip.solve(log_output=True)"
   ]
  },
  {
   "cell_type": "code",
   "execution_count": null,
   "metadata": {},
   "outputs": [],
   "source": [
    "uaflp_sol.get_objective_value()"
   ]
  },
  {
   "cell_type": "markdown",
   "metadata": {},
   "source": [
    "* O7(v1):\n",
    "\n",
    "    - Width = 13\n",
    "    - Height = 8.54\n",
    "    - OPT: 136.58016035347748\n",
    "\n",
    "* O7(v2):\n",
    "\n",
    "    - Width = 8.54\n",
    "    - Height = 13\n",
    "    - OPT: 134.19007457625085\n",
    "\n",
    "* O8:\n",
    "\n",
    "    - Width = 11.31\n",
    "    - Height = 13\n",
    "    - OPT: 245.50564435564434\n",
    "    - Sol:\n",
    "    ```\n",
    "    z_1_9  =  1.0\n",
    "    z_2_9  =  1.0\n",
    "    z_3_1  =  1.0\n",
    "    z_4_9  =  1.0\n",
    "    z_5_1  =  1.0\n",
    "    z_6_1  =  1.0\n",
    "    z_7_9  =  1.0\n",
    "    z_8_1  =  1.0\n",
    "    --\n",
    "    r_1_2  =  1.0\n",
    "    r_3_5  =  1.0\n",
    "    r_3_6  =  1.0\n",
    "    r_3_8  =  1.0\n",
    "    r_4_1  =  1.0\n",
    "    r_4_2  =  1.0\n",
    "    r_6_5  =  1.0\n",
    "    r_6_8  =  1.0\n",
    "    r_7_1  =  1.0\n",
    "    r_7_2  =  1.0\n",
    "    r_7_4  =  1.0\n",
    "    r_8_5  =  1.0\n",
    "    --\n",
    "    (x, y)  =  (8.346153846153847, 4.0519480519480515)\n",
    "    (x, y)  =  (8.346153846153847, 1.3506493506493504)\n",
    "    (x, y)  =  (2.6923076923076925, 11.514285714285714)\n",
    "    (x, y)  =  (8.346153846153847, 8.441558441558442)\n",
    "    (x, y)  =  (2.6923076923076925, 3.342857142857143)\n",
    "    (x, y)  =  (2.6923076923076925, 9.192857142857143)\n",
    "    (x, y)  =  (8.346153846153847, 12.24025974025974)\n",
    "    (x, y)  =  (2.6923076923076925, 7.521428571428572)\n",
    "    ```\n",
    "\n",
    "* O9:\n",
    "\n",
    "    - Width = 12\n",
    "    - Height = 13\n",
    "    - OPT: 254.3873303167421\n",
    "    - Sol:\n",
    "    ```\n",
    "    z_1_3  =  1.0\n",
    "    z_2_1  =  1.0\n",
    "    z_3_9  =  1.0\n",
    "    z_4_3  =  1.0\n",
    "    z_5_1  =  1.0\n",
    "    z_6_1  =  1.0\n",
    "    z_7_9  =  1.0\n",
    "    z_8_9  =  1.0\n",
    "    z_9_1  =  1.0\n",
    "    --\n",
    "    r_2_1  =  1.0\n",
    "    r_2_5  =  1.0\n",
    "    r_2_6  =  1.0\n",
    "    r_2_9  =  1.0\n",
    "    r_4_1  =  1.0\n",
    "    r_6_5  =  1.0\n",
    "    r_6_9  =  1.0\n",
    "    r_7_3  =  1.0\n",
    "    r_8_3  =  1.0\n",
    "    r_8_7  =  1.0\n",
    "    r_9_5  =  1.0\n",
    "    --\n",
    "    (x, y)  =  (7.384615384615385, 2.0)\n",
    "    (x, y)  =  (2.6923076923076925, 11.514285714285714)\n",
    "    (x, y)  =  (10.692307692307693, 3.058823529411764)\n",
    "    (x, y)  =  (7.384615384615385, 8.5)\n",
    "    (x, y)  =  (2.6923076923076925, 3.3428571428571434)\n",
    "    (x, y)  =  (2.6923076923076925, 9.192857142857143)\n",
    "    (x, y)  =  (10.692307692307693, 7.838235294117647)\n",
    "    (x, y)  =  (10.692307692307693, 11.279411764705882)\n",
    "    (x, y)  =  (2.6923076923076925, 7.521428571428572)\n",
    "    \n",
    "    ```\n"
   ]
  },
  {
   "cell_type": "code",
   "execution_count": null,
   "metadata": {},
   "outputs": [],
   "source": [
    "for i in dpts:\n",
    "    for k in max_bays:\n",
    "\n",
    "        zs_val = uaflp_sol.get_var_value(zs[i, k])\n",
    "        if zs_val == 1.0:\n",
    "            print(f'z_{i}_{k}', ' = ', zs_val)"
   ]
  },
  {
   "cell_type": "code",
   "execution_count": null,
   "metadata": {},
   "outputs": [],
   "source": [
    "for i in dpts:\n",
    "    for j in dpts:\n",
    "\n",
    "        rs_val = uaflp_sol.get_var_value(rs[i, j])\n",
    "        if rs_val == 1.0:\n",
    "            print(f'r_{i}_{j}', ' = ', rs_val)"
   ]
  },
  {
   "cell_type": "code",
   "execution_count": null,
   "metadata": {},
   "outputs": [],
   "source": [
    "for i in dpts:\n",
    "\n",
    "    x_coord = uaflp_sol.get_var_value(x[i])\n",
    "    y_coord = uaflp_sol.get_var_value(y[i])\n",
    "    print('(x, y)', ' = ', (x_coord, y_coord))"
   ]
  },
  {
   "cell_type": "markdown",
   "metadata": {},
   "source": [
    "### Best FSBP Model\n",
    "\n",
    "MIP-FSBP model + constraints (23)-(27)"
   ]
  },
  {
   "cell_type": "code",
   "execution_count": null,
   "metadata": {},
   "outputs": [],
   "source": [
    "relaxed = True"
   ]
  },
  {
   "cell_type": "code",
   "execution_count": null,
   "metadata": {},
   "outputs": [],
   "source": [
    "# Original MIP-FBS Formulation\n",
    "# Define UAFLP-MIP model\n",
    "uaflp_mip = Model('UAFLP-MIP-KONAK-2006')\n",
    "\n",
    "# Add variables\n",
    "# Binary vars\n",
    "if not relaxed:\n",
    "    zs = {(i, k): uaflp_mip.binary_var(name=f'z_{i}_{k}')\\\n",
    "        for i in dpts for k in max_bays}\n",
    "\n",
    "    rs = {(i, j): uaflp_mip.binary_var(name=f'r_{i}_{j}')\\\n",
    "        for i in dpts for j in dpts}\n",
    "\n",
    "    ds = {(k): uaflp_mip.binary_var(name=f'd_{k}')\\\n",
    "        for k in max_bays}\n",
    "else:\n",
    "    zs = {(i, k): uaflp_mip.continuous_var(name=f'z_{i}_{k}', lb=0)\\\n",
    "      for i in dpts for k in max_bays}\n",
    "\n",
    "    rs = {(i, j): uaflp_mip.continuous_var(name=f'r_{i}_{j}', lb=0)\\\n",
    "        for i in dpts for j in dpts}\n",
    "\n",
    "    ds = {(k): uaflp_mip.continuous_var(name=f'd_{k}', lb=0)\\\n",
    "        for k in max_bays}\n",
    "\n",
    "# Continuous vars\n",
    "w = {(k): uaflp_mip.continuous_var(name=f'w_{k}', lb=0)\\\n",
    "      for k in max_bays}\n",
    "\n",
    "ly = {(i): uaflp_mip.continuous_var(name=f'l_y_{i}', lb=0)\\\n",
    "      for i in dpts}\n",
    "\n",
    "h = {(i, k): uaflp_mip.continuous_var(name=f'h_{i}_{k}', lb=0)\\\n",
    "       for i in dpts for k in max_bays}\n",
    "\n",
    "x = {(i): uaflp_mip.continuous_var(name=f'x_{i}', lb=0)\\\n",
    "      for i in dpts}\n",
    "\n",
    "y = {(i): uaflp_mip.continuous_var(name=f'y_{i}', lb=0)\\\n",
    "      for i in dpts}\n",
    "\n",
    "dx = {(i, j): uaflp_mip.continuous_var(name=f'd_x_{i}_{j}', lb=0)\\\n",
    "        for i in dpts for j in dpts}\n",
    "\n",
    "dy = {(i, j): uaflp_mip.continuous_var(name=f'd_y_{i}_{j}', lb=0)\\\n",
    "        for i in dpts for j in dpts}\n",
    "\n",
    "# Add objective function\n",
    "total_mf_costs = uaflp_mip.sum(uaflp_mip.sum(mat_flows[i-1, j-1] * (dx[i, j] + dy[i, j]) for j in dpts if i < j) for i in dpts)\n",
    "uaflp_mip.minimize(total_mf_costs)\n",
    "\n",
    "# Add constraints\n",
    "for i in dpts:\n",
    "    for j in dpts:\n",
    "        if i < j:\n",
    "            uaflp_mip.add_constraint(dx[i, j] >= x[i] - x[j])\n",
    "            uaflp_mip.add_constraint(dx[i, j] >= x[j] - x[i])\n",
    "            uaflp_mip.add_constraint(dy[i, j] >= y[i] - y[j])\n",
    "            uaflp_mip.add_constraint(dy[i, j] >= y[j] - y[i])\n",
    "\n",
    "for i in dpts:\n",
    "    uaflp_mip.add_constraint(uaflp_mip.sum(zs[i, k] for k in max_bays) == 1)\n",
    "\n",
    "for k in max_bays:\n",
    "    uaflp_mip.add_constraint(w[k] == uaflp_mip.sum(zs[i, k] * dp_areas[i-1] for i in dpts)/height)\n",
    "\n",
    "for i in dpts:\n",
    "    for k in max_bays:\n",
    "        uaflp_mip.add_constraint(min_side[i-1] * zs[i, k] <= w[k])\n",
    "        uaflp_mip.add_constraint(w[k] <= max_side[i-1] + width * (1 - zs[i, k]))\n",
    "\n",
    "for i in dpts:\n",
    "    for k in max_bays:\n",
    "        uaflp_mip.add_constraint(x[i] >= uaflp_mip.sum(w[j] for j in max_bays if j <= k) - 0.5*w[k] - \\\n",
    "                                 (width - min_side[i-1])*(1 - zs[i, k]))\n",
    "        \n",
    "        uaflp_mip.add_constraint(x[i] <= uaflp_mip.sum(w[j] for j in max_bays if j <= k) - 0.5*w[k] + \\\n",
    "                                 (width - min_side[i-1])*(1 - zs[i, k]))\n",
    "        \n",
    "for i in dpts:\n",
    "    for j in dpts:\n",
    "        if i < j:\n",
    "            for k in max_bays:\n",
    "                uaflp_mip.add_constraint(h[i, k]/dp_areas[i-1] - h[j, k]/dp_areas[j-1] - \\\n",
    "                                         np.max([max_side[i-1]/dp_areas[i-1], max_side[j-1]/dp_areas[j-1]])*(2 - zs[i, k] - zs[j, k]) <= 0)\n",
    "                uaflp_mip.add_constraint(h[i, k]/dp_areas[i-1] - h[j, k]/dp_areas[j-1] + \\\n",
    "                                         np.max([max_side[i-1]/dp_areas[i-1], max_side[j-1]/dp_areas[j-1]])*(2 - zs[i, k] - zs[j, k]) >= 0)\n",
    "\n",
    "for k in max_bays:\n",
    "    uaflp_mip.add_constraint(uaflp_mip.sum(h[i, k] for i in dpts) == height*ds[k])\n",
    "\n",
    "for i in dpts:\n",
    "    for k in max_bays:\n",
    "        uaflp_mip.add_constraint(min_side[i-1]*zs[i, k] <= h[i, k])\n",
    "        uaflp_mip.add_constraint(h[i, k] <= max_side[i-1]*zs[i, k])\n",
    "\n",
    "for i in dpts:\n",
    "    uaflp_mip.add_constraint(uaflp_mip.sum(h[i, k] for k in max_bays) == ly[i])\n",
    "\n",
    "for i in dpts:\n",
    "    for j in dpts:\n",
    "        if i != j:\n",
    "            uaflp_mip.add_constraint(y[i] - 0.5*ly[i] >= y[j] + 0.5*ly[j] - height*(1 - rs[i, j]))\n",
    "\n",
    "for i in dpts:\n",
    "    for j in dpts:\n",
    "        if i < j:\n",
    "            uaflp_mip.add_constraint(rs[i, j] + rs[j, i] <= 1)\n",
    "\n",
    "for i in dpts:\n",
    "    for j in dpts:\n",
    "        if i < j:\n",
    "            for k in max_bays:\n",
    "                uaflp_mip.add_constraint(rs[i, j] + rs[j, i] >= zs[i, k] + zs[j, k] - 1)\n",
    "\n",
    "for i in dpts:\n",
    "    uaflp_mip.add_constraint(0.5*ly[i] <= y[i])\n",
    "    uaflp_mip.add_constraint(y[i] <= height - 0.5*ly[i])"
   ]
  },
  {
   "cell_type": "code",
   "execution_count": null,
   "metadata": {},
   "outputs": [],
   "source": [
    "# uaflp_mip.pprint()"
   ]
  },
  {
   "cell_type": "code",
   "execution_count": null,
   "metadata": {},
   "outputs": [],
   "source": [
    "# Solve original model\n",
    "uaflp_sol = uaflp_mip.solve(clean_before_solve=True, log_output=True)"
   ]
  },
  {
   "cell_type": "code",
   "execution_count": null,
   "metadata": {},
   "outputs": [],
   "source": [
    "# Show solution for the original model\n",
    "print(uaflp_sol.solve_status)\n",
    "print(uaflp_mip.solve_details.time)\n",
    "print(uaflp_mip.solve_details.nb_nodes_processed)\n",
    "print(uaflp_sol.get_objective_value())"
   ]
  },
  {
   "cell_type": "code",
   "execution_count": null,
   "metadata": {},
   "outputs": [],
   "source": [
    "for i in dpts:\n",
    "    for k in max_bays:\n",
    "\n",
    "        zs_val = uaflp_sol.get_var_value(zs[i, k])\n",
    "        if zs_val > 0:\n",
    "            print(f'z_{i}_{k}', ' = ', zs_val)"
   ]
  },
  {
   "cell_type": "code",
   "execution_count": null,
   "metadata": {},
   "outputs": [],
   "source": [
    "for i in dpts:\n",
    "    for j in dpts:\n",
    "\n",
    "        dx_val = uaflp_sol.get_var_value(dx[i, j])\n",
    "        dy_val = uaflp_sol.get_var_value(dy[i, j])\n",
    "        if dx_val != 0 or dy_val != 0:\n",
    "            print(dx_val, dy_val)"
   ]
  },
  {
   "cell_type": "markdown",
   "metadata": {},
   "source": [
    "#### Adding improvements to the model"
   ]
  },
  {
   "cell_type": "code",
   "execution_count": null,
   "metadata": {},
   "outputs": [],
   "source": [
    "# Tightening LP lower bound\n",
    "# for i in dpts:\n",
    "#     for j in dpts:\n",
    "#         if i < j:\n",
    "#             for k in max_bays:\n",
    "#                 for m in max_bays:\n",
    "#                     if k != m:\n",
    "#                         uaflp_mip.add_constraint(dx[i, j] >= 0.5*(min_side[i-1] + min_side[j-1]) + width*(zs[i, k] + zs[j, m] - 2))\n",
    "\n",
    "for i in dpts:\n",
    "    for j in dpts:\n",
    "        if i < j:\n",
    "            for k in max_bays:\n",
    "                uaflp_mip.add_constraint(dy[i, j] >= 0.5*(min_side[i-1] + min_side[j-1]) + height*(zs[i, k] + zs[j, k] - 2))"
   ]
  },
  {
   "cell_type": "code",
   "execution_count": null,
   "metadata": {},
   "outputs": [],
   "source": [
    "# Reducing model degeneracy: fill bays sequentially\n",
    "for k in max_bays:\n",
    "    if k < len(max_bays):\n",
    "        uaflp_mip.add_constraint(n_dpts*uaflp_mip.sum(zs[i, k] for i in dpts) >= uaflp_mip.sum(zs[i, k+1] for i in dpts))"
   ]
  },
  {
   "cell_type": "code",
   "execution_count": null,
   "metadata": {},
   "outputs": [],
   "source": [
    "# Tightened dx constraint\n",
    "for i in dpts:\n",
    "    for j in dpts:\n",
    "        if i < j:\n",
    "            for k in max_bays:\n",
    "                for m in max_bays:\n",
    "                    if k != m:\n",
    "                        uaflp_mip.add_constraint(dx[i, j] >= 0.5*(min_side[i-1] + min_side[j-1]) + \\\n",
    "                                                 uaflp_mip.min(min_side[p-1] for p in dpts if p != i and p != j)*(np.abs(m - k) - 1) + \\\n",
    "                                                    len(max_bays)*width*(zs[i, k] + zs[j, m] - 2))"
   ]
  },
  {
   "cell_type": "code",
   "execution_count": null,
   "metadata": {},
   "outputs": [],
   "source": [
    "# Solve original model + improvements\n",
    "uaflp_sol = uaflp_mip.solve(clean_before_solve=True, log_output=True)"
   ]
  },
  {
   "cell_type": "code",
   "execution_count": null,
   "metadata": {},
   "outputs": [],
   "source": [
    "# Show solution for the original model\n",
    "print(uaflp_sol.solve_status)\n",
    "print(uaflp_mip.solve_details.time)\n",
    "print(uaflp_mip.solve_details.nb_nodes_processed)\n",
    "print(uaflp_sol.get_objective_value())"
   ]
  },
  {
   "cell_type": "code",
   "execution_count": null,
   "metadata": {},
   "outputs": [],
   "source": [
    "for i in dpts:\n",
    "    for k in max_bays:\n",
    "\n",
    "        zs_val = uaflp_sol.get_var_value(zs[i, k])\n",
    "        if zs_val > 0:\n",
    "            print(f'z_{i}_{k}', ' = ', zs_val)"
   ]
  },
  {
   "cell_type": "code",
   "execution_count": null,
   "metadata": {},
   "outputs": [],
   "source": [
    "uaflp_mip.add_constraint(zs[1, 1] == 1)\n",
    "uaflp_mip.add_constraint(zs[2, 1] == 1)\n",
    "uaflp_mip.add_constraint(zs[3, 1] == 1)\n",
    "uaflp_mip.add_constraint(zs[4, 2] == 1)\n",
    "uaflp_mip.add_constraint(zs[5, 2] == 1)\n",
    "uaflp_mip.add_constraint(zs[6, 2] == 1)\n",
    "uaflp_mip.add_constraint(zs[7, 1] == 1)\n",
    "\n",
    "uaflp_mip.add_constraint(rs[1, 2] == 1)\n",
    "uaflp_mip.add_constraint(rs[1, 3] == 1)\n",
    "uaflp_mip.add_constraint(rs[1, 7] == 1)\n",
    "uaflp_mip.add_constraint(rs[2, 3] == 1)\n",
    "uaflp_mip.add_constraint(rs[2, 7] == 1)\n",
    "uaflp_mip.add_constraint(rs[3, 7] == 1)\n",
    "uaflp_mip.add_constraint(rs[4, 5] == 1)\n",
    "uaflp_mip.add_constraint(rs[4, 6] == 1)\n",
    "uaflp_mip.add_constraint(rs[5, 6] == 1)\n",
    "\n",
    "uaflp_mip.add_constraint(d[4, 6] == 1)\n",
    "uaflp_mip.add_constraint(rs[5, 6] == 1)"
   ]
  },
  {
   "cell_type": "code",
   "execution_count": null,
   "metadata": {},
   "outputs": [],
   "source": []
  }
 ],
 "metadata": {
  "kernelspec": {
   "display_name": "Python 3",
   "language": "python",
   "name": "python3"
  },
  "language_info": {
   "codemirror_mode": {
    "name": "ipython",
    "version": 3
   },
   "file_extension": ".py",
   "mimetype": "text/x-python",
   "name": "python",
   "nbconvert_exporter": "python",
   "pygments_lexer": "ipython3",
   "version": "3.10.1"
  },
  "orig_nbformat": 4
 },
 "nbformat": 4,
 "nbformat_minor": 2
}
