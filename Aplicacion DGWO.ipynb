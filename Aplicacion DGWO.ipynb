{
 "cells": [
  {
   "cell_type": "markdown",
   "id": "b411dfe2",
   "metadata": {},
   "source": [
    "# Aplicacion del Algoritmo de Optimizacion de Lobo Gris Discreto (DGWO) a la Distribucion de Instalaciones con Areas Desiguales (UAFLP)"
   ]
  },
  {
   "cell_type": "markdown",
   "id": "654a7e0b",
   "metadata": {},
   "source": [
    "## Definicion del modelo UAFLP"
   ]
  },
  {
   "cell_type": "code",
   "execution_count": 28,
   "id": "9bbc49a1",
   "metadata": {},
   "outputs": [],
   "source": [
    "import numpy as np\n",
    "import matplotlib.pyplot as plt"
   ]
  },
  {
   "cell_type": "markdown",
   "id": "288ca8e9",
   "metadata": {},
   "source": [
    "### Problema de ejemplo para pruebas (O7)"
   ]
  },
  {
   "cell_type": "code",
   "execution_count": 30,
   "id": "26777bd6",
   "metadata": {},
   "outputs": [],
   "source": [
    "# O7\n",
    "n_dptos = 7\n",
    "departamentos = np.arange(1, n_dptos + 1)\n",
    "areas_dptos = np.array([16, 16, 16, 36, 9, 9, 9])\n",
    "fl_materiales = np.array([[0, 0, 0, 0, 0, 0, 0],\n",
    "                          [0, 0, 0, 0, 0, 0, 0],\n",
    "                          [0, 0, 0, 0, 0, 0, 0],\n",
    "                          [5, 3, 2, 0, 0, 0, 0],\n",
    "                          [0, 0, 0, 4, 0, 0, 0],\n",
    "                          [0, 0, 0, 4, 0, 0, 0],\n",
    "                          [1, 1, 1, 0, 2, 1, 0]])\n",
    "lados_inst = np.array([8.54, 13]) # ancho, largo\n",
    "max_rel_aspecto = 4\n",
    "nombres_dptos = None\n",
    "\n",
    "solucion = np.array([[3, 5, 7, 1, 4, 6, 2], \n",
    "                     [0, 0, 1, 0, 0, 0, 1]])"
   ]
  },
  {
   "cell_type": "markdown",
   "id": "c4ca6a67",
   "metadata": {},
   "source": [
    "### Metodo para la decodificacion de la solucion\n",
    "\n",
    "**Entradas**: Array con una solucion `np.array([dptos], [bahias])`\n",
    "\n",
    "Se requieren los siguientes pasos:\n",
    "\n",
    "* **Identificar bahias**: Retorna una lista con los departamentos en cada bahia `bahias`.\n",
    "\n",
    "\n",
    "* **Calcular dimensiones y centroides de los departamentos**:  Retorna una lista con las dimensiones de ancho y largo de cada departamento `lados` y otra lista con las coordenadas en $x$ y $y$ de los centroides de cada departamento `centroides`"
   ]
  },
  {
   "cell_type": "code",
   "execution_count": 12,
   "id": "76ec4be2",
   "metadata": {},
   "outputs": [],
   "source": [
    "## Identificar bahias\n",
    "bahias = []\n",
    "dpts_bahias = []\n",
    "\n",
    "for ind, bah in enumerate(solucion[1]):\n",
    "    dpto = solucion[0, ind]\n",
    "\n",
    "    if ind == 0 or bah == 0:\n",
    "        dpts_bahias.append(dpto)\n",
    "        if bah == 1:\n",
    "            bahias.append(dpts_bahias)\n",
    "            dpts_bahias = []\n",
    "    elif bah == 1:\n",
    "        dpts_bahias.append(dpto)\n",
    "        bahias.append(dpts_bahias)\n",
    "        dpts_bahias = []"
   ]
  },
  {
   "cell_type": "code",
   "execution_count": 13,
   "id": "4fd59c4c",
   "metadata": {},
   "outputs": [
    {
     "data": {
      "text/plain": [
       "[[3, 5, 7], [1, 4, 6, 2]]"
      ]
     },
     "execution_count": 13,
     "metadata": {},
     "output_type": "execute_result"
    }
   ],
   "source": [
    "bahias"
   ]
  },
  {
   "cell_type": "code",
   "execution_count": 23,
   "id": "14b76170",
   "metadata": {},
   "outputs": [],
   "source": [
    "## Obtener dimensiones de lados y centroides de departamentos\n",
    "centroides = [0] * n_dptos\n",
    "lados = [0] * n_dptos\n",
    "\n",
    "contador_ancho = 0\n",
    "for bah in bahias:\n",
    "    \n",
    "    area_bahia = 0\n",
    "    for dpto in bah:\n",
    "        area_bahia += areas_dptos[dpto-1]\n",
    "        \n",
    "    ancho_bahia = area_bahia / lados_inst[1]\n",
    "    \n",
    "    contador_largo = 0\n",
    "    for dpto in bah:\n",
    "        largo_dpto = areas_dptos[dpto-1] / ancho_bahia\n",
    "        lados[dpto-1] = [ancho_bahia, largo_dpto]\n",
    "        centro_x = contador_ancho + ancho_bahia / 2\n",
    "        centro_y = contador_largo + largo_dpto / 2\n",
    "        centroides[dpto-1] = [centro_x, centro_y]\n",
    "        contador_largo += largo_dpto\n",
    "        \n",
    "    contador_ancho += ancho_bahia        "
   ]
  },
  {
   "cell_type": "code",
   "execution_count": 26,
   "id": "1958b987",
   "metadata": {},
   "outputs": [
    {
     "data": {
      "text/plain": [
       "[[5.576923076923077, 1.3506493506493507],\n",
       " [5.576923076923077, 11.649350649350648],\n",
       " [1.3076923076923077, 3.0588235294117645],\n",
       " [5.576923076923077, 5.74025974025974],\n",
       " [1.3076923076923077, 7.838235294117647],\n",
       " [5.576923076923077, 9.53896103896104],\n",
       " [1.3076923076923077, 11.279411764705882]]"
      ]
     },
     "execution_count": 26,
     "metadata": {},
     "output_type": "execute_result"
    }
   ],
   "source": [
    "centroides"
   ]
  },
  {
   "cell_type": "code",
   "execution_count": 27,
   "id": "3beb8084",
   "metadata": {},
   "outputs": [
    {
     "data": {
      "text/plain": [
       "[[5.923076923076923, 2.7012987012987013],\n",
       " [5.923076923076923, 2.7012987012987013],\n",
       " [2.6153846153846154, 6.117647058823529],\n",
       " [5.923076923076923, 6.077922077922078],\n",
       " [2.6153846153846154, 3.441176470588235],\n",
       " [5.923076923076923, 1.5194805194805194],\n",
       " [2.6153846153846154, 3.441176470588235]]"
      ]
     },
     "execution_count": 27,
     "metadata": {},
     "output_type": "execute_result"
    }
   ],
   "source": [
    "lados"
   ]
  },
  {
   "cell_type": "markdown",
   "id": "1ab5da50",
   "metadata": {},
   "source": [
    "### Metodo para dibujar el plano de planta de la solucion\n",
    "\n",
    "**Entradas**: \n",
    "\n",
    "* Array con una solucion `np.array([dptos], [bahias])`\n",
    "* Lista de los departamentos en cada bahia `bahias`\n",
    "* Lista con las dimensiones de lados de los departamentos `lados`\n",
    "* Lista con las coordenadas de los centroides de los departamentos `centroides`"
   ]
  },
  {
   "cell_type": "code",
   "execution_count": 31,
   "id": "ca032f60",
   "metadata": {},
   "outputs": [],
   "source": [
    "# Dibujar layout de planta de la solucion\n",
    "if nombres_dptos == None:\n",
    "    nombres_dptos = [f'Dpto_{d}' for d in departamentos]\n",
    "\n",
    "if lados_inst[0] > lados_inst[1]:\n",
    "    fig = plt.figure(dpi=300, figsize=(6, 4))\n",
    "else:\n",
    "    fig = plt.figure(dpi=300, figsize=(4, 6))\n",
    "    \n",
    "plt.rcParams.update({'font.size': 6})\n",
    "ax = fig.add_subplot(111)\n",
    "ax.set_xlim([0, lados_inst[0]])\n",
    "ax.set_ylim([0, lados_inst[1]])\n",
    "ax.set_xticks([0, lados_inst[0]])\n",
    "ax.set_yticks([0, lados_inst[1]])\n",
    "\n",
    "esq_x = 0\n",
    "for ind, bah in enumerate(bahias):\n",
    "    \n",
    "    esq_y = 0\n",
    "    pass"
   ]
  },
  {
   "cell_type": "code",
   "execution_count": 32,
   "id": "4b37e471",
   "metadata": {},
   "outputs": [
    {
     "data": {
      "text/plain": [
       "['Dpto_1', 'Dpto_2', 'Dpto_3', 'Dpto_4', 'Dpto_5', 'Dpto_6', 'Dpto_7']"
      ]
     },
     "execution_count": 32,
     "metadata": {},
     "output_type": "execute_result"
    }
   ],
   "source": [
    "nombres_dptos"
   ]
  },
  {
   "cell_type": "code",
   "execution_count": null,
   "id": "fe937566",
   "metadata": {},
   "outputs": [],
   "source": []
  }
 ],
 "metadata": {
  "kernelspec": {
   "display_name": "Python 3 (ipykernel)",
   "language": "python",
   "name": "python3"
  },
  "language_info": {
   "codemirror_mode": {
    "name": "ipython",
    "version": 3
   },
   "file_extension": ".py",
   "mimetype": "text/x-python",
   "name": "python",
   "nbconvert_exporter": "python",
   "pygments_lexer": "ipython3",
   "version": "3.10.4"
  }
 },
 "nbformat": 4,
 "nbformat_minor": 5
}
