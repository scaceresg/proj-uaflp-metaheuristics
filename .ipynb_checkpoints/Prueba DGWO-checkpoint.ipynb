{
 "cells": [
  {
   "cell_type": "markdown",
   "id": "b411dfe2",
   "metadata": {},
   "source": [
    "### DGWO Procedure"
   ]
  },
  {
   "cell_type": "code",
   "execution_count": 1,
   "id": "9bbc49a1",
   "metadata": {},
   "outputs": [],
   "source": [
    "import numpy as np"
   ]
  },
  {
   "cell_type": "code",
   "execution_count": 2,
   "id": "1958b987",
   "metadata": {},
   "outputs": [],
   "source": [
    "n_dptos = 7"
   ]
  },
  {
   "cell_type": "code",
   "execution_count": 3,
   "id": "7b23d788",
   "metadata": {},
   "outputs": [
    {
     "data": {
      "text/plain": [
       "array([7, 3, 6, 1, 5, 4, 2])"
      ]
     },
     "execution_count": 3,
     "metadata": {},
     "output_type": "execute_result"
    }
   ],
   "source": [
    "dptos = np.arange(1, n_dptos+1)\n",
    "dptos = np.random.permutation(dptos)\n",
    "dptos"
   ]
  },
  {
   "cell_type": "code",
   "execution_count": 4,
   "id": "41cb1e0a",
   "metadata": {},
   "outputs": [
    {
     "data": {
      "text/plain": [
       "array([0, 1, 0, 1, 0, 1, 1])"
      ]
     },
     "execution_count": 4,
     "metadata": {},
     "output_type": "execute_result"
    }
   ],
   "source": [
    "bahias = np.random.randint(0, 2, n_dptos-1)\n",
    "bahias = np.append(bahias, 1)\n",
    "bahias"
   ]
  },
  {
   "cell_type": "code",
   "execution_count": 5,
   "id": "7796b416",
   "metadata": {},
   "outputs": [],
   "source": [
    "# Set parameters M, teta1, teta2\n",
    "M = 10\n",
    "theta_1 = 0.3\n",
    "theta_2 = 0.5"
   ]
  },
  {
   "cell_type": "markdown",
   "id": "16b2fda0",
   "metadata": {},
   "source": [
    "### Iniciar manada y evaluar su funcion fitness"
   ]
  },
  {
   "cell_type": "code",
   "execution_count": 6,
   "id": "1811209c",
   "metadata": {},
   "outputs": [],
   "source": [
    "manada = []\n",
    "fit_manada = []\n",
    "\n",
    "for i in range(M):\n",
    "    lobo_dp = np.random.permutation(dptos) # Componente permutacion - departamentos\n",
    "    lobo_bh = np.random.randint(0, 2, n_dptos-1) # Componente binario - bahias\n",
    "    lobo_bh = np.append(lobo_bh, 1) # Bahias debe terminar en 1\n",
    "    lobo = [lobo_dp, lobo_bh]\n",
    "    fit_lb = np.random.randint(20, 100) # metodo calcular_fitness()\n",
    "    \n",
    "    manada.append(lobo)\n",
    "    fit_manada.append(fit_lb)"
   ]
  },
  {
   "cell_type": "code",
   "execution_count": 7,
   "id": "da54dd31",
   "metadata": {},
   "outputs": [
    {
     "data": {
      "text/plain": [
       "[[array([5, 3, 6, 1, 4, 7, 2]), array([1, 1, 0, 0, 1, 1, 1])],\n",
       " [array([1, 3, 2, 4, 7, 5, 6]), array([1, 1, 0, 0, 1, 1, 1])],\n",
       " [array([2, 3, 4, 6, 1, 7, 5]), array([1, 0, 0, 1, 1, 0, 1])],\n",
       " [array([4, 2, 7, 1, 3, 5, 6]), array([1, 0, 1, 0, 0, 1, 1])],\n",
       " [array([2, 1, 4, 6, 3, 7, 5]), array([0, 0, 0, 0, 0, 0, 1])],\n",
       " [array([4, 7, 5, 2, 3, 6, 1]), array([0, 1, 0, 0, 1, 1, 1])],\n",
       " [array([6, 7, 3, 4, 2, 5, 1]), array([1, 0, 0, 1, 1, 0, 1])],\n",
       " [array([2, 1, 7, 6, 5, 3, 4]), array([0, 1, 1, 1, 1, 0, 1])],\n",
       " [array([7, 5, 4, 1, 6, 2, 3]), array([0, 0, 0, 0, 1, 1, 1])],\n",
       " [array([4, 7, 6, 1, 2, 5, 3]), array([0, 0, 0, 0, 1, 1, 1])]]"
      ]
     },
     "execution_count": 7,
     "metadata": {},
     "output_type": "execute_result"
    }
   ],
   "source": [
    "manada"
   ]
  },
  {
   "cell_type": "code",
   "execution_count": 8,
   "id": "ec785f98",
   "metadata": {},
   "outputs": [
    {
     "data": {
      "text/plain": [
       "[38, 51, 55, 52, 80, 79, 64, 64, 31, 29]"
      ]
     },
     "execution_count": 8,
     "metadata": {},
     "output_type": "execute_result"
    }
   ],
   "source": [
    "fit_manada"
   ]
  },
  {
   "cell_type": "markdown",
   "id": "cef36280",
   "metadata": {},
   "source": [
    "### Identificacion de lobos lideres: alpha, beta y delta"
   ]
  },
  {
   "cell_type": "code",
   "execution_count": 9,
   "id": "4a7c9fdf",
   "metadata": {},
   "outputs": [],
   "source": [
    "lobos_lideres = [] # alpha, beta, delta\n",
    "fit_lideres = []"
   ]
  },
  {
   "cell_type": "code",
   "execution_count": 10,
   "id": "68930c7d",
   "metadata": {},
   "outputs": [],
   "source": [
    "while len(lobos_lideres) < 3:\n",
    "    pos_min = np.argmin(fit_manada) # Identificar el lobo con min fitness\n",
    "    lider = manada[pos_min]\n",
    "    fit_lider = fit_manada[pos_min]\n",
    "    manada.pop(pos_min) # Sacarlo de la manada\n",
    "    fit_manada.pop(pos_min)\n",
    "    \n",
    "    lobos_lideres.append(lider) # Anadir a los lideres\n",
    "    fit_lideres.append(fit_lider)"
   ]
  },
  {
   "cell_type": "code",
   "execution_count": 11,
   "id": "0028b036",
   "metadata": {},
   "outputs": [
    {
     "data": {
      "text/plain": [
       "[[array([4, 7, 6, 1, 2, 5, 3]), array([0, 0, 0, 0, 1, 1, 1])],\n",
       " [array([7, 5, 4, 1, 6, 2, 3]), array([0, 0, 0, 0, 1, 1, 1])],\n",
       " [array([5, 3, 6, 1, 4, 7, 2]), array([1, 1, 0, 0, 1, 1, 1])]]"
      ]
     },
     "execution_count": 11,
     "metadata": {},
     "output_type": "execute_result"
    }
   ],
   "source": [
    "lobos_lideres"
   ]
  },
  {
   "cell_type": "code",
   "execution_count": 12,
   "id": "0df15c03",
   "metadata": {},
   "outputs": [
    {
     "data": {
      "text/plain": [
       "[29, 31, 38]"
      ]
     },
     "execution_count": 12,
     "metadata": {},
     "output_type": "execute_result"
    }
   ],
   "source": [
    "fit_lideres"
   ]
  },
  {
   "cell_type": "code",
   "execution_count": 13,
   "id": "b3f766e5",
   "metadata": {},
   "outputs": [
    {
     "data": {
      "text/plain": [
       "7"
      ]
     },
     "execution_count": 13,
     "metadata": {},
     "output_type": "execute_result"
    }
   ],
   "source": [
    "len(manada)"
   ]
  },
  {
   "cell_type": "markdown",
   "id": "14067273",
   "metadata": {},
   "source": [
    "### Comportamiento de busqueda"
   ]
  },
  {
   "cell_type": "code",
   "execution_count": 14,
   "id": "8b84e4ce",
   "metadata": {},
   "outputs": [
    {
     "data": {
      "text/plain": [
       "[[array([1, 3, 2, 4, 7, 5, 6]), array([1, 1, 0, 0, 1, 1, 1])],\n",
       " [array([2, 3, 4, 6, 1, 7, 5]), array([1, 0, 0, 1, 1, 0, 1])],\n",
       " [array([4, 2, 7, 1, 3, 5, 6]), array([1, 0, 1, 0, 0, 1, 1])],\n",
       " [array([2, 1, 4, 6, 3, 7, 5]), array([0, 0, 0, 0, 0, 0, 1])],\n",
       " [array([4, 7, 5, 2, 3, 6, 1]), array([0, 1, 0, 0, 1, 1, 1])],\n",
       " [array([6, 7, 3, 4, 2, 5, 1]), array([1, 0, 0, 1, 1, 0, 1])],\n",
       " [array([2, 1, 7, 6, 5, 3, 4]), array([0, 1, 1, 1, 1, 0, 1])]]"
      ]
     },
     "execution_count": 14,
     "metadata": {},
     "output_type": "execute_result"
    }
   ],
   "source": [
    "manada"
   ]
  },
  {
   "cell_type": "code",
   "execution_count": 15,
   "id": "c9d25017",
   "metadata": {},
   "outputs": [
    {
     "data": {
      "text/plain": [
       "[51, 55, 52, 80, 79, 64, 64]"
      ]
     },
     "execution_count": 15,
     "metadata": {},
     "output_type": "execute_result"
    }
   ],
   "source": [
    "fit_manada"
   ]
  },
  {
   "cell_type": "code",
   "execution_count": 16,
   "id": "9f33243c",
   "metadata": {},
   "outputs": [],
   "source": [
    "def encontrar_pos(elem_lobo, pos_mov, pos_fin):\n",
    "    mov = elem_lobo[pos_mov]\n",
    "    elem_lobo = np.delete(elem_lobo, pos_mov)\n",
    "    elem_lobo = np.insert(elem_lobo, pos_fin, mov)\n",
    "    \n",
    "    return elem_lobo"
   ]
  },
  {
   "cell_type": "code",
   "execution_count": 17,
   "id": "daded689",
   "metadata": {},
   "outputs": [
    {
     "name": "stdout",
     "output_type": "stream",
     "text": [
      "[array([1, 2, 3, 4, 7, 5, 6]), array([1, 0, 1, 0, 1, 1, 1])]\n",
      "45\n"
     ]
    }
   ],
   "source": [
    "tam_mov = np.floor(n_dptos * theta_1).astype(int) # Tamano del movimiento a realizar (e.g. 2 posiciones)\n",
    "\n",
    "for ind, lobo in enumerate(manada):\n",
    "    pos_ini = np.random.randint(0, n_dptos + 1 - tam_mov) # Indice inicial del movimiento (e.g. indice 1)\n",
    "    pos_fin = np.random.randint(0, n_dptos + 1 - tam_mov) # Indice en donde se movera la posicion (e.g. indice 4)\n",
    "    pos_mov = np.arange(pos_ini, pos_ini + tam_mov) # Indices del movimiento a realizar (e.g. [1, 2])\n",
    "    \n",
    "    # Movimiento para el elemento de departamentos\n",
    "    dp = lobo[0]\n",
    "    mov_dp = dp[pos_mov]\n",
    "    dp = np.delete(dp, pos_mov)\n",
    "    dp = np.insert(dp, pos_fin, mov_dp)\n",
    "    \n",
    "    # Movimiento para el elemento de bahias\n",
    "    bh = lobo[1]\n",
    "    mov_bh = bh[pos_mov]\n",
    "    bh = np.delete(bh, pos_mov)\n",
    "    bh = np.insert(bh, pos_fin, mov_bh)\n",
    "    if bh[-1] == 0:\n",
    "        bh[-1] = 1\n",
    "    \n",
    "    new_pos_lb = [dp, bh]\n",
    "    new_pos_fit = np.random.randint(20, 100) # metodo calcular_fitness()\n",
    "    \n",
    "    if new_pos_fit < min(fit_lideres): # Comparar con alpha\n",
    "        manada[ind] = lobos_lideres[0] # anadir alpha a la manada\n",
    "        fit_manada[ind] = fit_lideres[0]\n",
    "        \n",
    "        lobos_lideres[0] = new_pos_lb\n",
    "        fit_lideres[0] = new_pos_fit\n",
    "        break # ?\n",
    "    elif new_pos_fit < fit_manada[ind]: # Comparar con posicion actual\n",
    "        manada[ind] = new_pos_lb\n",
    "        fit_manada[ind] = new_pos_fit"
   ]
  },
  {
   "cell_type": "code",
   "execution_count": 18,
   "id": "66f29770",
   "metadata": {},
   "outputs": [
    {
     "data": {
      "text/plain": [
       "[29, 31, 38]"
      ]
     },
     "execution_count": 18,
     "metadata": {},
     "output_type": "execute_result"
    }
   ],
   "source": [
    "fit_lideres"
   ]
  },
  {
   "cell_type": "code",
   "execution_count": 19,
   "id": "87006ab7",
   "metadata": {},
   "outputs": [
    {
     "data": {
      "text/plain": [
       "[[array([4, 7, 6, 1, 2, 5, 3]), array([0, 0, 0, 0, 1, 1, 1])],\n",
       " [array([7, 5, 4, 1, 6, 2, 3]), array([0, 0, 0, 0, 1, 1, 1])],\n",
       " [array([5, 3, 6, 1, 4, 7, 2]), array([1, 1, 0, 0, 1, 1, 1])]]"
      ]
     },
     "execution_count": 19,
     "metadata": {},
     "output_type": "execute_result"
    }
   ],
   "source": [
    "lobos_lideres"
   ]
  },
  {
   "cell_type": "code",
   "execution_count": 20,
   "id": "b0a51eef",
   "metadata": {},
   "outputs": [
    {
     "data": {
      "text/plain": [
       "[[array([1, 2, 3, 4, 7, 5, 6]), array([1, 0, 1, 0, 1, 1, 1])],\n",
       " [array([2, 3, 4, 6, 1, 7, 5]), array([1, 0, 0, 1, 1, 0, 1])],\n",
       " [array([4, 2, 7, 1, 3, 5, 6]), array([1, 0, 1, 0, 0, 1, 1])],\n",
       " [array([2, 1, 4, 6, 3, 7, 5]), array([0, 0, 0, 0, 0, 0, 1])],\n",
       " [array([4, 7, 5, 2, 3, 6, 1]), array([0, 1, 0, 0, 1, 1, 1])],\n",
       " [array([6, 7, 3, 4, 2, 5, 1]), array([1, 0, 0, 1, 1, 0, 1])],\n",
       " [array([2, 1, 7, 6, 5, 3, 4]), array([0, 1, 1, 1, 1, 0, 1])]]"
      ]
     },
     "execution_count": 20,
     "metadata": {},
     "output_type": "execute_result"
    }
   ],
   "source": [
    "manada"
   ]
  },
  {
   "cell_type": "code",
   "execution_count": 21,
   "id": "c8194671",
   "metadata": {},
   "outputs": [
    {
     "data": {
      "text/plain": [
       "[45, 55, 52, 80, 79, 64, 64]"
      ]
     },
     "execution_count": 21,
     "metadata": {},
     "output_type": "execute_result"
    }
   ],
   "source": [
    "fit_manada"
   ]
  },
  {
   "cell_type": "markdown",
   "id": "915fb8b0",
   "metadata": {},
   "source": [
    "### Comportamiento de ataque"
   ]
  },
  {
   "cell_type": "markdown",
   "id": "9d4d3d26",
   "metadata": {},
   "source": [
    "```\n",
    "da = num_dptos * theta_2\n",
    "for lobo in manada:\n",
    "    if rand < 0.5:\n",
    "        lider = alpha\n",
    "    elif rand < 0.75:\n",
    "        lider = beta\n",
    "    else:\n",
    "        lider = delta\n",
    "    \n",
    "    d = calcular_distancia(lobo, lider)\n",
    "    \n",
    "    while d > da:\n",
    "        lobo = reducir_distancia(lobo, lider)\n",
    "        d = calcular_distancia(lobo, lider)\n",
    "```"
   ]
  },
  {
   "cell_type": "code",
   "execution_count": null,
   "id": "6561f8a0",
   "metadata": {},
   "outputs": [],
   "source": [
    "da = np.floor(n_dptos * theta_2)\n",
    "da"
   ]
  },
  {
   "cell_type": "code",
   "execution_count": null,
   "id": "db5227e6",
   "metadata": {},
   "outputs": [],
   "source": [
    "def seleccionar_lider():\n",
    "\n",
    "    rand = np.random.random()\n",
    "    if rand < 0.5:\n",
    "        lider = lobos_lideres[0] # alpha\n",
    "    elif rand < 0.75:\n",
    "        lider = lobos_lideres[1] # beta\n",
    "    else:\n",
    "        lider = lobos_lideres[2] # delta\n",
    "    \n",
    "    return lider"
   ]
  },
  {
   "cell_type": "code",
   "execution_count": null,
   "id": "577a7669",
   "metadata": {},
   "outputs": [],
   "source": [
    "def calcular_dist(elem_lobo, elem_lider):\n",
    "    \n",
    "    dist = 0\n",
    "    for ind in range(len(elem_lider)):\n",
    "        if elem_lider[ind] != elem_lobo[ind]:\n",
    "            dist += 1\n",
    "    \n",
    "    return dist"
   ]
  },
  {
   "cell_type": "code",
   "execution_count": null,
   "id": "c1da288e",
   "metadata": {},
   "outputs": [],
   "source": [
    "def reducir_dist(elem_lobo, elem_lider, index):\n",
    "    \n",
    "    dp = np.arange(1, n_dptos+1)\n",
    "    \n",
    "    for i in dp[index:]:\n",
    "        lid_val = elem_lider[i-1]\n",
    "        lb_val = elem_lobo[i-1]\n",
    "        if lid_val != lb_val:\n",
    "            p_cambio = np.where(elem_lobo == lid_val)\n",
    "            elem_lobo[i-1] = lid_val\n",
    "            elem_lobo[p_cambio] = lb_val  \n",
    "            \n",
    "            return elem_lobo, i"
   ]
  },
  {
   "cell_type": "code",
   "execution_count": null,
   "id": "0e542c72",
   "metadata": {},
   "outputs": [],
   "source": [
    "for lobo in manada:\n",
    "    \n",
    "    lider = seleccionar_lider()\n",
    "    \n",
    "    for ind, elem in enumerate(lobo):\n",
    "        dist = calcular_dist(elem, lider[ind])\n",
    "        \n",
    "        while dist > da:\n",
    "            pass"
   ]
  },
  {
   "cell_type": "code",
   "execution_count": null,
   "id": "6c95e46a",
   "metadata": {},
   "outputs": [],
   "source": [
    "# Prueba de los metodos\n",
    "lb1 = np.array([4, 6, 5, 7, 3, 2, 1])"
   ]
  },
  {
   "cell_type": "code",
   "execution_count": null,
   "id": "e5f70b7e",
   "metadata": {},
   "outputs": [],
   "source": [
    "# Seleccionar lider\n",
    "lid = seleccionar_lider()\n",
    "lid"
   ]
  },
  {
   "cell_type": "code",
   "execution_count": null,
   "id": "08ae11ec",
   "metadata": {},
   "outputs": [],
   "source": [
    "# Calcular distancia\n",
    "distancia = calcular_dist(lb1, lid[0])\n",
    "distancia"
   ]
  },
  {
   "cell_type": "code",
   "execution_count": null,
   "id": "1eb67a77",
   "metadata": {},
   "outputs": [],
   "source": [
    "# Reducir distancia\n",
    "lb1, ind = reducir_dist(lb1, lid[0], ind)\n",
    "print(lb1)\n",
    "print(ind)"
   ]
  },
  {
   "cell_type": "code",
   "execution_count": null,
   "id": "cf0a222a",
   "metadata": {},
   "outputs": [],
   "source": [
    "distancia2 = calcular_dist(lb1, lid[0])\n",
    "distancia2"
   ]
  },
  {
   "cell_type": "code",
   "execution_count": 25,
   "id": "d5acd705",
   "metadata": {},
   "outputs": [
    {
     "name": "stdout",
     "output_type": "stream",
     "text": [
      "1\n",
      "5\n"
     ]
    }
   ],
   "source": [
    "pi, pf = np.random.randint(0, n_dptos + 1 - tam_mov, 2)\n",
    "print(pi)\n",
    "print(pf)"
   ]
  },
  {
   "cell_type": "code",
   "execution_count": 26,
   "id": "ad9a7e42",
   "metadata": {},
   "outputs": [
    {
     "data": {
      "text/plain": [
       "True"
      ]
     },
     "execution_count": 26,
     "metadata": {},
     "output_type": "execute_result"
    }
   ],
   "source": [
    "[1, 2, 3] == [1, 2, 3]"
   ]
  },
  {
   "cell_type": "code",
   "execution_count": null,
   "id": "243598ea",
   "metadata": {},
   "outputs": [],
   "source": []
  }
 ],
 "metadata": {
  "kernelspec": {
   "display_name": "Python 3 (ipykernel)",
   "language": "python",
   "name": "python3"
  },
  "language_info": {
   "codemirror_mode": {
    "name": "ipython",
    "version": 3
   },
   "file_extension": ".py",
   "mimetype": "text/x-python",
   "name": "python",
   "nbconvert_exporter": "python",
   "pygments_lexer": "ipython3",
   "version": "3.10.1"
  }
 },
 "nbformat": 4,
 "nbformat_minor": 5
}
