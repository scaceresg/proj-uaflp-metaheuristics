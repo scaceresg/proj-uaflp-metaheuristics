{
 "cells": [
  {
   "attachments": {},
   "cell_type": "markdown",
   "id": "b411dfe2",
   "metadata": {},
   "source": [
    "# Aplicación del Algoritmo de Optimización de Lobo Gris Discreto (DGWO) en la Distribución de Instalaciones con Áreas Desiguales (UAFLP)"
   ]
  },
  {
   "cell_type": "code",
   "execution_count": 1,
   "id": "9bbc49a1",
   "metadata": {},
   "outputs": [],
   "source": [
    "import numpy as np\n",
    "import matplotlib.pyplot as plt"
   ]
  },
  {
   "attachments": {},
   "cell_type": "markdown",
   "id": "288ca8e9",
   "metadata": {},
   "source": [
    "### Problema de ejemplo para pruebas (O7)"
   ]
  },
  {
   "cell_type": "code",
   "execution_count": 2,
   "id": "26777bd6",
   "metadata": {},
   "outputs": [],
   "source": [
    "# O7\n",
    "n_dptos = 7\n",
    "departamentos = np.arange(1, n_dptos + 1)\n",
    "areas_dptos = np.array([16, 16, 16, 36, 9, 9, 9])\n",
    "fl_materiales = np.array([[0, 0, 0, 0, 0, 0, 0],\n",
    "                          [0, 0, 0, 0, 0, 0, 0],\n",
    "                          [0, 0, 0, 0, 0, 0, 0],\n",
    "                          [5, 3, 2, 0, 0, 0, 0],\n",
    "                          [0, 0, 0, 4, 0, 0, 0],\n",
    "                          [0, 0, 0, 4, 0, 0, 0],\n",
    "                          [1, 1, 1, 0, 2, 1, 0]])\n",
    "lados_inst = np.array([8.54, 13]) # ancho, largo\n",
    "max_rel_aspecto = 4\n",
    "nombres_dptos = None\n",
    "costo_manejo_unitario = None\n",
    "\n",
    "solucion = np.array([[3, 5, 7, 1, 4, 6, 2], \n",
    "                     [0, 0, 1, 0, 0, 0, 1]])"
   ]
  },
  {
   "attachments": {},
   "cell_type": "markdown",
   "id": "654a7e0b",
   "metadata": {},
   "source": [
    "## 1. Definición del modelo UAFLP"
   ]
  },
  {
   "attachments": {},
   "cell_type": "markdown",
   "id": "c4ca6a67",
   "metadata": {},
   "source": [
    "### 1.1 Método para la decodificación de la solución\n",
    "\n",
    "**Entradas**: Array con una solución `np.array([dptos], [bahias])`\n",
    "\n",
    "Se requieren los siguientes pasos:\n",
    "\n",
    "* **Identificar bahias**: Retorna una lista con los departamentos en cada bahía: `bahias`.\n",
    "\n",
    "\n",
    "* **Calcular dimensiones y centroides de los departamentos**:  Retorna una lista con las dimensiones de ancho y largo de cada departamento `lados_dptos` y otra lista con las coordenadas en $x$ y $y$ de los centroides de cada departamento `centroides_dptos`."
   ]
  },
  {
   "cell_type": "code",
   "execution_count": null,
   "id": "76ec4be2",
   "metadata": {},
   "outputs": [],
   "source": [
    "## Identificar bahias\n",
    "bahias = []\n",
    "dpts_bahias = []\n",
    "\n",
    "for ind, bah in enumerate(solucion[1]):\n",
    "    dpto = solucion[0, ind]\n",
    "\n",
    "    if ind == 0 or bah == 0:\n",
    "        dpts_bahias.append(dpto)\n",
    "        if bah == 1:\n",
    "            bahias.append(dpts_bahias)\n",
    "            dpts_bahias = []\n",
    "    elif bah == 1:\n",
    "        dpts_bahias.append(dpto)\n",
    "        bahias.append(dpts_bahias)\n",
    "        dpts_bahias = []"
   ]
  },
  {
   "cell_type": "code",
   "execution_count": null,
   "id": "4fd59c4c",
   "metadata": {},
   "outputs": [],
   "source": [
    "bahias"
   ]
  },
  {
   "cell_type": "code",
   "execution_count": null,
   "id": "14b76170",
   "metadata": {},
   "outputs": [],
   "source": [
    "## Obtener dimensiones de lados y centroides de departamentos\n",
    "centroides_dptos = [0] * n_dptos\n",
    "lados_dptos = [0] * n_dptos\n",
    "\n",
    "contador_ancho = 0\n",
    "for bah in bahias:\n",
    "    \n",
    "    area_bahia = 0\n",
    "    for dpto in bah:\n",
    "        area_bahia += areas_dptos[dpto-1]\n",
    "        \n",
    "    ancho_bahia = area_bahia / lados_inst[1]\n",
    "    \n",
    "    contador_largo = 0\n",
    "    for dpto in bah:\n",
    "        largo_dpto = areas_dptos[dpto-1] / ancho_bahia\n",
    "        lados_dptos[dpto-1] = [ancho_bahia, largo_dpto]\n",
    "        centro_x = contador_ancho + ancho_bahia / 2\n",
    "        centro_y = contador_largo + largo_dpto / 2\n",
    "        centroides_dptos[dpto-1] = [centro_x, centro_y]\n",
    "        contador_largo += largo_dpto\n",
    "        \n",
    "    contador_ancho += ancho_bahia        "
   ]
  },
  {
   "cell_type": "code",
   "execution_count": null,
   "id": "1958b987",
   "metadata": {},
   "outputs": [],
   "source": [
    "centroides_dptos"
   ]
  },
  {
   "cell_type": "code",
   "execution_count": null,
   "id": "3beb8084",
   "metadata": {},
   "outputs": [],
   "source": [
    "lados_dptos"
   ]
  },
  {
   "attachments": {},
   "cell_type": "markdown",
   "id": "1ab5da50",
   "metadata": {},
   "source": [
    "### 1.2 Método para dibujar el plano de planta de la solución\n",
    "\n",
    "**Entradas**: \n",
    "\n",
    "* Array con una solución `np.array([dptos], [bahias])`\n",
    "* Lista de los departamentos en cada bahía `bahias`\n",
    "* Lista con las dimensiones de lados de los departamentos `lados_dptos`\n",
    "* Lista con las coordenadas de los centroides de los departamentos `centroides_dptos`\n",
    "\n",
    "Retorna un layout de bloques con la ubicación de los departamentos en el plano de planta, de acuerdo con la solución dada."
   ]
  },
  {
   "cell_type": "code",
   "execution_count": null,
   "id": "ca032f60",
   "metadata": {},
   "outputs": [],
   "source": [
    "# Dibujar layout de planta de la solucion\n",
    "if nombres_dptos == None:\n",
    "    nombres_dptos = [f'Dpto {d}' for d in departamentos]\n",
    "\n",
    "if lados_inst[0] > lados_inst[1]:\n",
    "    fig = plt.figure(dpi=300, figsize=(3, 2))\n",
    "else:\n",
    "    fig = plt.figure(dpi=300, figsize=(2, 3))\n",
    "    \n",
    "plt.rcParams.update({'font.size': 6})\n",
    "ax = fig.add_subplot(111)\n",
    "ax.set_xlim([0, lados_inst[0]])\n",
    "ax.set_ylim([0, lados_inst[1]])\n",
    "ax.set_xticks([0, lados_inst[0]])\n",
    "ax.set_yticks([0, lados_inst[1]])\n",
    "\n",
    "esq_x = 0\n",
    "for bah in bahias:\n",
    "    \n",
    "    esq_y = 0\n",
    "    for dpt in bah:\n",
    "        rect = plt.Rectangle((esq_x, esq_y), width=lados_dptos[dpt-1][0],\n",
    "                            height=lados_dptos[dpt-1][1], facecolor='white',\n",
    "                            edgecolor='black')\n",
    "        plt.text(centroides_dptos[dpt-1][0], centroides_dptos[dpt-1][1],\n",
    "                f'{nombres_dptos[dpt-1]}', horizontalalignment='center',\n",
    "                verticalalignment='top')\n",
    "        plt.plot(centroides_dptos[dpt-1][0], centroides_dptos[dpt-1][1],\n",
    "                color='black', marker=None, markersize=2)\n",
    "        ax.add_patch(rect)\n",
    "        \n",
    "        esq_y += lados_dptos[dpt-1][1]\n",
    "        \n",
    "    esq_x += lados_dptos[dpt-1][0]\n",
    "    \n",
    "plt.show()"
   ]
  },
  {
   "attachments": {},
   "cell_type": "markdown",
   "id": "c8b38e39",
   "metadata": {},
   "source": [
    "### 1.2 Método para calcular la función *fitness* de la solución\n",
    "\n",
    "Se requieren los siguientes pasos:\n",
    "\n",
    "* **Calcular las distancias entre departamentos**: Retorna una matriz triangular inferior con las distancias *rectilíneas*  entre cada par de departamentos: `distancias_dptos`\n",
    "\n",
    "\n",
    "* **Calcular el costo de manejo de materiales**: Retorna el valor de la función objetivo del modelo: `mhc`.\n",
    "\n",
    "\n",
    "* **Calcular la función fitness**: Retorna el valor de la función *fitness*, considerando penalizaciones por incumplimiento de la restricción de aspecto máxima definida para cada uno de los departamentos en la instalación: `fitness`.\n"
   ]
  },
  {
   "cell_type": "code",
   "execution_count": null,
   "id": "4b37e471",
   "metadata": {},
   "outputs": [],
   "source": [
    "# Calcular las distancias rectilíneas entre departamentos\n",
    "distancias_dptos = np.zeros((n_dptos, n_dptos))\n",
    "\n",
    "for i in departamentos:\n",
    "    for j in departamentos[i:]:\n",
    "        dist_rectil_x = np.abs(centroides_dptos[i-1][0] - centroides_dptos[j-1][0])\n",
    "        dist_rectil_y = np.abs(centroides_dptos[i-1][1] - centroides_dptos[j-1][1])\n",
    "        \n",
    "        distancias_dptos[j-1, i-1] = dist_rectil_x + dist_rectil_y"
   ]
  },
  {
   "cell_type": "code",
   "execution_count": null,
   "id": "fe937566",
   "metadata": {},
   "outputs": [],
   "source": [
    "distancias_dptos"
   ]
  },
  {
   "cell_type": "code",
   "execution_count": null,
   "id": "0ea74da7",
   "metadata": {},
   "outputs": [],
   "source": [
    "# Calcular el costo total de manejo de materiales\n",
    "\n",
    "# Crear una matriz con el costo de manejo por unidad\n",
    "matriz_costos_dptos = None\n",
    "if costo_manejo_unitario == None: \n",
    "    matriz_costos_dptos = np.ones((n_dptos, n_dptos))\n",
    "else:\n",
    "    matriz_costos_dptos = np.full((n_dptos, n_dptos), costo_manejo_unitario)\n",
    "\n",
    "    \n",
    "mhc = np.sum(matriz_costos_dptos * distancias_dptos * fl_materiales)"
   ]
  },
  {
   "cell_type": "code",
   "execution_count": null,
   "id": "7dd0b907",
   "metadata": {},
   "outputs": [],
   "source": [
    "mhc"
   ]
  },
  {
   "cell_type": "code",
   "execution_count": null,
   "id": "0dfe39e4",
   "metadata": {},
   "outputs": [],
   "source": [
    "# Calcular función fitness\n",
    "k = 3\n",
    "\n",
    "contador_rompen_restr = 0\n",
    "for i in solucion[0]:\n",
    "    tasa_aspecto = max(lados_dptos[i-1][0], lados_dptos[i-1][1]) / min(lados_dptos[i-1][0], lados_dptos[i-1][1])\n",
    "    \n",
    "    if tasa_aspecto > max_rel_aspecto:\n",
    "        contador_rompen_restr += 1\n",
    "        \n",
    "fitness = mhc + mhc * (contador_rompen_restr ** k)"
   ]
  },
  {
   "cell_type": "code",
   "execution_count": null,
   "id": "316a8e3e",
   "metadata": {},
   "outputs": [],
   "source": [
    "fitness"
   ]
  },
  {
   "attachments": {},
   "cell_type": "markdown",
   "id": "2d1c2f9f",
   "metadata": {},
   "source": [
    "### 1.3 Creación de la clase `ModeloUAFLP` para su aplicación usando el DGWO\n",
    "\n",
    "Las clases permiten generar *objetos* que contienen atributos y métodos, que a su vez pueden ser manipulados por otras clases."
   ]
  },
  {
   "cell_type": "code",
   "execution_count": 3,
   "id": "257d5f4b",
   "metadata": {},
   "outputs": [],
   "source": [
    "import numpy as np\n",
    "import matplotlib.pyplot as plt\n",
    "\n",
    "class ModeloUAFLP:\n",
    "    \n",
    "    # Constructor de la clase (argumentos requeridos para crear la clase)\n",
    "    def __init__(self, n_dptos:int, areas_dptos:np.ndarray, flujo_materiales:np.ndarray,\n",
    "                lados_instalacion:np.ndarray, tasa_aspecto_max:int, costo_manejo_unit:float=None,\n",
    "                nombres_dptos:list=None, archivo_datos:str=None) -> None:\n",
    "        \n",
    "        if archivo_datos == None:\n",
    "            self.n_dptos = n_dptos\n",
    "            self.departamentos = np.arange(1, self.n_dptos + 1)\n",
    "            self.areas_dptos = areas_dptos\n",
    "            self.flujo_materiales = flujo_materiales\n",
    "            self.lados_instalacion = lados_instalacion # ancho, largo\n",
    "            self.tasa_aspecto_max = tasa_aspecto_max\n",
    "            self.nombres_dptos = nombres_dptos\n",
    "            self.costo_manejo_unit = costo_manejo_unit\n",
    "            \n",
    "            # Definir matriz de costo de manejo unitario\n",
    "            if self.costo_manejo_unit == None:\n",
    "                matriz_costos_dptos = np.ones((self.n_dptos, self.n_dptos))\n",
    "            else:\n",
    "                matriz_costos_dptos = np.full((self.n_dptos, self.n_dptos), self.costo_manejo_unit)\n",
    "        else: # Crear construcción para extraer datos de archivo de datos\n",
    "            pass \n",
    "                \n",
    "    # Método para decodificar la solución \n",
    "    def decodificar_solucion(self, solucion:np.ndarray):\n",
    "        self.identificar_bahias(solucion)\n",
    "        self.calcular_lados_centros()\n",
    "    \n",
    "    # Identificar bahías\n",
    "    def identificar_bahias(self, solucion):\n",
    "        self.bahias = []\n",
    "        dpts_bahias = []\n",
    "\n",
    "        for ind, bah in enumerate(solucion[1]):\n",
    "            dpto = solucion[0, ind] # Identificar dpto en posicion\n",
    "\n",
    "            if ind == 0 or bah == 0:\n",
    "                dpts_bahias.append(dpto) # Añadir dptos en bahía\n",
    "                if bah == 1:\n",
    "                    self.bahias.append(dpts_bahias) # Añadir bahía a bahías\n",
    "                    dpts_bahias = []\n",
    "            elif bah == 1:\n",
    "                dpts_bahias.append(dpto) # Añadir dptos en bahía\n",
    "                self.bahias.append(dpts_bahias) # Añadir bahía a bahías\n",
    "                dpts_bahias = []\n",
    "    \n",
    "    # Calcular dimensiones de lados y centroides de los departamentos\n",
    "    def calcular_lados_centros(self):\n",
    "        self.centroides_dptos = [0] * self.n_dptos\n",
    "        self.lados_dptos = [0] * self.n_dptos\n",
    "\n",
    "        contador_ancho = 0\n",
    "        for bah in self.bahias:\n",
    "\n",
    "            area_bahia = 0\n",
    "            for dpto in bah:\n",
    "                area_bahia += areas_dptos[dpto-1] # area bahia = suma(areas dptos en bahia)\n",
    "\n",
    "            ancho_bahia = area_bahia / lados_inst[1] # ancho bahia = area de bahia / largo de instalacion\n",
    "\n",
    "            contador_largo = 0\n",
    "            for dpto in bah:\n",
    "                largo_dpto = areas_dptos[dpto-1] / ancho_bahia # largo dpto = area dpto / ancho bahia\n",
    "                self.lados_dptos[dpto-1] = [ancho_bahia, largo_dpto] # Nota: ancho bahia == ancho dpto en bahia\n",
    "                centro_x = contador_ancho + ancho_bahia / 2\n",
    "                centro_y = contador_largo + largo_dpto / 2\n",
    "                self.centroides_dptos[dpto-1] = [centro_x, centro_y]\n",
    "                contador_largo += largo_dpto\n",
    "\n",
    "            contador_ancho += ancho_bahia\n",
    "\n",
    "    # Dibujar layout de planta de la solucion\n",
    "    def dibujar_layout(self, solucion:np.ndarray):\n",
    "        if self.nombres_dptos == None:\n",
    "            self.nombres_dptos = [f'Dpto {d}' for d in self.departamentos]\n",
    "\n",
    "        self.decodificar_solucion(solucion)\n",
    "\n",
    "        if self.lados_instalacion[0] > self.lados_instalacion[1]:\n",
    "            fig = plt.figure(dpi=300, figsize=(6, 4))\n",
    "        else:\n",
    "            fig = plt.figure(dpi=300, figsize=(4, 6))\n",
    "\n",
    "        plt.rcParams.update({'font.size': 6})\n",
    "        ax = fig.add_subplot(111)\n",
    "        ax.set_xlim([0, self.lados_instalacion[0]])\n",
    "        ax.set_ylim([0, self.lados_instalacion[1]])\n",
    "        ax.set_xticks([0, self.lados_instalacion[0]])\n",
    "        ax.set_yticks([0, self.lados_instalacion[1]])\n",
    "\n",
    "        esq_x = 0\n",
    "        for bah in self.bahias:\n",
    "\n",
    "            esq_y = 0\n",
    "            for dpt in bah:\n",
    "                rect = plt.Rectangle((esq_x, esq_y), width=self.lados_dptos[dpt-1][0],\n",
    "                                     height=self.lados_dptos[dpt-1][1], facecolor='white',\n",
    "                                     edgecolor='black')\n",
    "                plt.text(self.centroides_dptos[dpt-1][0], self.centroides_dptos[dpt-1][1],\n",
    "                         f'{self.nombres_dptos[dpt-1]}', horizontalalignment='center',\n",
    "                         verticalalignment='top')\n",
    "                plt.plot(self.centroides_dptos[dpt-1][0], self.centroides_dptos[dpt-1][1],\n",
    "                         color='black', marker=None, markersize=2)\n",
    "                ax.add_patch(rect)\n",
    "\n",
    "                esq_y += self.lados_dptos[dpt-1][1]\n",
    "\n",
    "            esq_x += self.lados_dptos[dpt-1][0]\n",
    "\n",
    "        plt.show()\n",
    "\n",
    "    # Calcular la función fitness\n",
    "    def calcular_fitness(self, solucion:np.ndarray):\n",
    "        self.decodificar_solucion(solucion)\n",
    "        self.calcular_distancias()\n",
    "        self.calcular_mhc()\n",
    "\n",
    "        k = 3\n",
    "\n",
    "        contador_no_factibles = 0\n",
    "        for i in solucion[0]:\n",
    "            tasa_aspecto_dpto = max(self.lados_dptos[i-1][0], self.lados_dptos[i-1][1]) / min(self.lados_dptos[i-1][0], self.lados_dptos[i-1][1])\n",
    "\n",
    "            if tasa_aspecto_dpto > self.tasa_aspecto_max:\n",
    "                contador_no_factibles += 1\n",
    "\n",
    "        fitness = self.mhc + self.mhc * (contador_no_factibles ** k)\n",
    "\n",
    "        return round(fitness, ndigits=2)\n",
    "\n",
    "    # Calcular las distancias rectilíneas entre departamentos\n",
    "    def calcular_distancias(self):\n",
    "        self.distancias_dptos = np.zeros((self.n_dptos, self.n_dptos))\n",
    "\n",
    "        for i in self.departamentos:\n",
    "            for j in self.departamentos[i:]:\n",
    "                dist_rectil_x = np.abs(self.centroides_dptos[i-1][0] - self.centroides_dptos[j-1][0])\n",
    "                dist_rectil_y = np.abs(self.centroides_dptos[i-1][1] - self.centroides_dptos[j-1][1])\n",
    "\n",
    "                self.distancias_dptos[j-1, i-1] = dist_rectil_x + dist_rectil_y\n",
    "\n",
    "    # Calcular el costo total de manejo de materiales entre departamentos\n",
    "    def calcular_mhc(self):\n",
    "        self.matriz_costos_dptos = None\n",
    "\n",
    "        if self.costo_manejo_unit == None:\n",
    "            self.matriz_costos_dptos = np.ones((self.n_dptos, self.n_dptos))\n",
    "        else:\n",
    "            self.matriz_costos_dptos = np.full((self.n_dptos, self.n_dptos), self.costo_manejo_unit)\n",
    "\n",
    "        self.mhc = np.sum(self.matriz_costos_dptos * self.distancias_dptos * self.flujo_materiales)"
   ]
  },
  {
   "attachments": {},
   "cell_type": "markdown",
   "id": "5999c12a",
   "metadata": {},
   "source": [
    "## 2. Algoritmo de Optimización de Lobo Gris Discreto (DGWO)"
   ]
  },
  {
   "cell_type": "code",
   "execution_count": 4,
   "id": "fddab654",
   "metadata": {},
   "outputs": [],
   "source": [
    "uaflp = ModeloUAFLP(n_dptos=n_dptos, areas_dptos=areas_dptos, flujo_materiales=fl_materiales, lados_instalacion=lados_inst,\n",
    "                    tasa_aspecto_max=max_rel_aspecto, costo_manejo_unit=costo_manejo_unitario)"
   ]
  },
  {
   "cell_type": "code",
   "execution_count": 5,
   "id": "00419f4b",
   "metadata": {},
   "outputs": [
    {
     "data": {
      "text/plain": [
       "134.19"
      ]
     },
     "execution_count": 5,
     "metadata": {},
     "output_type": "execute_result"
    }
   ],
   "source": [
    "uaflp.calcular_fitness(solucion)"
   ]
  },
  {
   "attachments": {},
   "cell_type": "markdown",
   "id": "7b9eb0ca",
   "metadata": {},
   "source": [
    "### 2.1 Definir parámetros del algoritmo"
   ]
  },
  {
   "cell_type": "code",
   "execution_count": 6,
   "id": "203400be",
   "metadata": {},
   "outputs": [],
   "source": [
    "from copy import deepcopy"
   ]
  },
  {
   "cell_type": "code",
   "execution_count": 7,
   "id": "a7cc9781",
   "metadata": {},
   "outputs": [],
   "source": [
    "tam_manada = 12 # max 12\n",
    "n_lideres = 3 # 1 o 3\n",
    "theta_1 = 0.4 # < 1\n",
    "theta_2 = 0.2 # < 1\n",
    "theta_3 = 0.6 # alpha influence < 1"
   ]
  },
  {
   "attachments": {},
   "cell_type": "markdown",
   "id": "0ae426e8",
   "metadata": {},
   "source": [
    "### 2.2 Inicializar población e identificar líderes\n",
    "\n",
    "Se requieren los siguientes pasos:\n",
    "\n",
    "* **Generar lobos en manada**: Retorna un array con los lobos (soluciones) generadas aleatoriamente, de acuerdo con el parámetro `tam_manada`: `manada`, y una lista con el valor de la función *fitness* para cada solución: `fit_manada`.\n",
    "\n",
    "* **Identificar líderes de la manada**: Retorna una lista con los lobos (soluciones) con mejor función *fitness* de la manada en el siguiente orden: `lobos_lideres = [alpha, beta, delta]`, y una lista con el valor de la función *fitness* correspondiente: `fit_lideres`. Este método, además, remueve los lobos líderes de la manada y su respectiva función *fitness*."
   ]
  },
  {
   "cell_type": "code",
   "execution_count": 8,
   "id": "f5263f0d",
   "metadata": {},
   "outputs": [],
   "source": [
    "# Generar lobos en manada\n",
    "manada = [0] * tam_manada\n",
    "fit_manada = [0] * tam_manada\n",
    "\n",
    "for lobo_ind in range(tam_manada):\n",
    "    lobo_dpts = list(np.random.permutation(departamentos))\n",
    "    lobo_bahs = list(np.random.randint(0, 2, n_dptos-1)) + [1]\n",
    "    manada[lobo_ind] = np.array([lobo_dpts, lobo_bahs])\n",
    "    fit_manada[lobo_ind] = uaflp.calcular_fitness(manada[lobo_ind])\n"
   ]
  },
  {
   "cell_type": "code",
   "execution_count": 9,
   "id": "1ce69ca9",
   "metadata": {},
   "outputs": [
    {
     "name": "stdout",
     "output_type": "stream",
     "text": [
      "[[5 4 2 7 3 1 6]\n",
      " [0 1 0 0 1 0 1]] 364.86\n",
      "[[6 1 5 3 4 2 7]\n",
      " [0 0 0 0 1 1 1]] 11086.08\n",
      "[[2 1 6 4 3 5 7]\n",
      " [0 0 0 0 1 0 1]] 4330.16\n",
      "[[4 7 6 1 5 2 3]\n",
      " [1 1 0 0 1 0 1]] 1475.45\n",
      "[[1 4 5 2 7 6 3]\n",
      " [0 1 1 0 1 1 1]] 10348.3\n",
      "[[4 5 2 1 6 7 3]\n",
      " [0 1 0 0 1 0 1]] 378.85\n",
      "[[1 5 7 6 4 3 2]\n",
      " [1 1 1 1 0 1 1]] 14809.85\n",
      "[[6 2 5 3 1 4 7]\n",
      " [0 0 0 0 1 0 1]] 199.63\n",
      "[[1 6 7 4 5 2 3]\n",
      " [1 0 1 1 1 1 1]] 35610.62\n",
      "[[1 5 3 7 4 6 2]\n",
      " [0 1 1 0 0 1 1]] 4591.45\n",
      "[[2 3 4 6 5 1 7]\n",
      " [1 0 0 0 1 1 1]] 3462.75\n",
      "[[7 2 3 4 1 6 5]\n",
      " [0 0 1 1 0 0 1]] 332.21\n"
     ]
    }
   ],
   "source": [
    "for lobo, fit in zip(manada, fit_manada):\n",
    "    print(lobo, fit)"
   ]
  },
  {
   "cell_type": "code",
   "execution_count": 10,
   "id": "980b7fc9",
   "metadata": {},
   "outputs": [],
   "source": [
    "# Identificar lobos líderes\n",
    "lobos_lideres = [0] * n_lideres \n",
    "fit_lideres = [0] * n_lideres\n",
    "\n",
    "for ind in range(n_lideres):\n",
    "\n",
    "    p_min = np.argmin(fit_manada)\n",
    "    lobos_lideres[ind] = manada[p_min]\n",
    "    fit_lideres[ind] = fit_manada[p_min]\n",
    "    manada.pop(p_min)\n",
    "    fit_manada.pop(p_min)"
   ]
  },
  {
   "cell_type": "code",
   "execution_count": 11,
   "id": "0d0a2557",
   "metadata": {},
   "outputs": [
    {
     "name": "stdout",
     "output_type": "stream",
     "text": [
      "[[6 2 5 3 1 4 7]\n",
      " [0 0 0 0 1 0 1]] 199.63\n",
      "[[7 2 3 4 1 6 5]\n",
      " [0 0 1 1 0 0 1]] 332.21\n",
      "[[5 4 2 7 3 1 6]\n",
      " [0 1 0 0 1 0 1]] 364.86\n"
     ]
    }
   ],
   "source": [
    "for lobo, fit in zip(lobos_lideres, fit_lideres):\n",
    "    print(lobo, fit)"
   ]
  },
  {
   "cell_type": "code",
   "execution_count": 12,
   "id": "23ea5e3b",
   "metadata": {},
   "outputs": [
    {
     "name": "stdout",
     "output_type": "stream",
     "text": [
      "[[6 1 5 3 4 2 7]\n",
      " [0 0 0 0 1 1 1]] 11086.08\n",
      "[[2 1 6 4 3 5 7]\n",
      " [0 0 0 0 1 0 1]] 4330.16\n",
      "[[4 7 6 1 5 2 3]\n",
      " [1 1 0 0 1 0 1]] 1475.45\n",
      "[[1 4 5 2 7 6 3]\n",
      " [0 1 1 0 1 1 1]] 10348.3\n",
      "[[4 5 2 1 6 7 3]\n",
      " [0 1 0 0 1 0 1]] 378.85\n",
      "[[1 5 7 6 4 3 2]\n",
      " [1 1 1 1 0 1 1]] 14809.85\n",
      "[[1 6 7 4 5 2 3]\n",
      " [1 0 1 1 1 1 1]] 35610.62\n",
      "[[1 5 3 7 4 6 2]\n",
      " [0 1 1 0 0 1 1]] 4591.45\n",
      "[[2 3 4 6 5 1 7]\n",
      " [1 0 0 0 1 1 1]] 3462.75\n"
     ]
    }
   ],
   "source": [
    "for lobo, fit in zip(manada, fit_manada):\n",
    "    print(lobo, fit)"
   ]
  },
  {
   "attachments": {},
   "cell_type": "markdown",
   "id": "8500b5bd",
   "metadata": {},
   "source": [
    "### 2.3 Realizar comportamiento de búsqueda de la presa\n",
    "\n",
    "Requiere los siguientes pasos:\n",
    "\n",
    "* **Buscar presa**: Retorna una manada (lista de soluciones) y fitness de la manada actualizadas una vez se han aplicado movimientos para cada lobo y se ha comparado su nuevo fitness con el fitness del lobo alpha y su fitness actual."
   ]
  },
  {
   "cell_type": "code",
   "execution_count": 13,
   "id": "955161f5",
   "metadata": {},
   "outputs": [],
   "source": [
    "# Comportamiento de buscar presa\n",
    "tam_movimiento = np.floor(n_dptos * theta_1).astype(int)\n",
    "\n",
    "for ind, lobo in enumerate(manada):\n",
    "\n",
    "    lobo_dp = deepcopy(lobo[0])\n",
    "    lobo_bh = deepcopy(lobo[1])\n",
    "\n",
    "    # Metodo para realizar el movimiento (dp)\n",
    "    pos_inicio, pos_fin = np.random.randint(0, n_dptos - tam_movimiento + 1, 2)\n",
    "    pos_movimiento = np.arange(pos_inicio, pos_inicio + tam_movimiento)\n",
    "    movimiento = lobo_dp[pos_movimiento]\n",
    "    lobo_dp = np.delete(lobo_dp, pos_movimiento)\n",
    "    lobo_dp = np.insert(lobo_dp, pos_fin, movimiento)\n",
    "\n",
    "    # Metodo para realizar el movimiento (bh)\n",
    "    pos_inicio, pos_fin = np.random.randint(0, n_dptos - tam_movimiento + 1, 2)\n",
    "    pos_movimiento = np.arange(pos_inicio, pos_inicio + tam_movimiento)\n",
    "    movimiento = lobo_bh[pos_movimiento]\n",
    "    lobo_bh = np.delete(lobo_bh, pos_movimiento)\n",
    "    lobo_bh = np.insert(lobo_bh, pos_fin, movimiento)\n",
    "\n",
    "    if lobo_bh[-1] != 1:\n",
    "        lobo_bh[-1] = 1\n",
    "\n",
    "    nuevo_lobo = np.array([list(lobo_dp), list(lobo_bh)])\n",
    "    fit_nuevo_lobo = uaflp.calcular_fitness(nuevo_lobo)\n",
    "\n",
    "    # Comparar nuevo fitness con el de lobo alpha y fitness actual\n",
    "    if fit_nuevo_lobo < fit_lideres[0]:\n",
    "\n",
    "        # Agregar nuevo alpha\n",
    "        lobos_lideres.insert(0, nuevo_lobo)        \n",
    "        fit_lideres.insert(0, fit_nuevo_lobo)\n",
    "\n",
    "        # Desplazar antiguo lobo delta a la manada\n",
    "        manada[ind] = lobos_lideres[-1]\n",
    "        fit_manada[ind] = fit_lideres[-1]\n",
    "\n",
    "        lobos_lideres.pop()\n",
    "        fit_lideres.pop()\n",
    "        break # Romper busqueda para iniciar ataque\n",
    "    elif fit_nuevo_lobo < fit_manada[ind]:\n",
    "\n",
    "        # Reemplazar nueva posicion de lobo en manada\n",
    "        manada[ind] = nuevo_lobo\n",
    "        fit_manada[ind] = fit_nuevo_lobo  "
   ]
  },
  {
   "cell_type": "code",
   "execution_count": 14,
   "id": "08379137",
   "metadata": {},
   "outputs": [
    {
     "name": "stdout",
     "output_type": "stream",
     "text": [
      "[[6 2 5 3 1 4 7]\n",
      " [0 0 0 0 1 0 1]] 199.63\n",
      "[[7 2 3 4 1 6 5]\n",
      " [0 0 1 1 0 0 1]] 332.21\n",
      "[[5 4 2 7 3 1 6]\n",
      " [0 1 0 0 1 0 1]] 364.86\n"
     ]
    }
   ],
   "source": [
    "for lobo, fit in zip(lobos_lideres, fit_lideres):\n",
    "    print(lobo, fit)"
   ]
  },
  {
   "cell_type": "code",
   "execution_count": 15,
   "id": "896ae699",
   "metadata": {},
   "outputs": [
    {
     "name": "stdout",
     "output_type": "stream",
     "text": [
      "[[6 1 5 2 3 4 7]\n",
      " [0 0 0 0 1 1 1]] 1597.64\n",
      "[[2 1 6 4 3 5 7]\n",
      " [0 0 0 0 1 0 1]] 4330.16\n",
      "[[4 7 6 1 5 2 3]\n",
      " [1 1 0 0 1 0 1]] 1475.45\n",
      "[[5 1 4 2 7 6 3]\n",
      " [0 0 1 1 1 1 1]] 9882.34\n",
      "[[2 4 5 1 6 7 3]\n",
      " [0 1 0 1 0 0 1]] 333.24\n",
      "[[1 5 7 6 4 3 2]\n",
      " [1 1 1 1 0 1 1]] 14809.85\n",
      "[[5 2 1 6 7 4 3]\n",
      " [1 0 1 1 1 1 1]] 14761.38\n",
      "[[1 5 3 7 4 6 2]\n",
      " [0 1 1 0 0 1 1]] 4591.45\n",
      "[[2 3 4 6 5 1 7]\n",
      " [1 0 0 0 1 1 1]] 3462.75\n"
     ]
    }
   ],
   "source": [
    "for lobo, fit in zip(manada, fit_manada):\n",
    "    print(lobo, fit)"
   ]
  },
  {
   "attachments": {},
   "cell_type": "markdown",
   "id": "86139809",
   "metadata": {},
   "source": [
    "### 2.4 Atacar presa (recortar distancia con el líder)"
   ]
  },
  {
   "cell_type": "code",
   "execution_count": 21,
   "id": "aa3213da",
   "metadata": {},
   "outputs": [],
   "source": [
    "# Comportamiento de atacar presa\n",
    "da = np.floor(n_dptos * theta_2)\n",
    "\n",
    "# Metodo para calcular la distancia con el lider\n",
    "def calcular_dist_lider(elem_lobo, elem_lider):\n",
    "\n",
    "    distancia = 0\n",
    "    for ind in range(len(elem_lider)):\n",
    "        if elem_lider[ind] != elem_lobo[ind]:\n",
    "            distancia += 1\n",
    "\n",
    "    return distancia\n",
    "\n",
    "def reducir_dist_dptos(elem_lobo, elem_lider, ind_actual):\n",
    "\n",
    "    dpto_lobo = elem_lobo[ind_actual]\n",
    "    dpto_lider = elem_lider[ind_actual]\n",
    "    if dpto_lobo != dpto_lider:\n",
    "        pos_cambio = np.where(elem_lobo == dpto_lider)[0]\n",
    "        elem_lobo[ind_actual] = dpto_lider\n",
    "        elem_lobo[pos_cambio] = dpto_lobo\n",
    "\n",
    "    return elem_lobo\n",
    "\n",
    "def reducir_dist_bahias(elem_lobo, elem_lider, ind_actual):\n",
    "\n",
    "    if elem_lobo[ind_actual] != elem_lider[ind_actual]:\n",
    "        elem_lobo[ind_actual] = elem_lider[ind_actual]\n",
    "\n",
    "    return elem_lobo\n",
    "\n",
    "for ind_md, lobo in enumerate(manada):\n",
    "\n",
    "    # Seleccionar lider para reducir distancia\n",
    "    rand = np.random.random()\n",
    "    if rand < theta_3:\n",
    "        lider = lobos_lideres[0]\n",
    "    elif rand < (theta_3 + (1 - theta_3)/2):\n",
    "        lider = lobos_lideres[1]\n",
    "    else:\n",
    "        lider = lobos_lideres[2]\n",
    "    \n",
    "    nuevo_lobo = deepcopy(lobo)\n",
    "\n",
    "    # Metodos para calcular y reducir la distancia (dptos) con el lider\n",
    "    dist_dptos = calcular_dist_lider(nuevo_lobo[0], lider[0])\n",
    "\n",
    "    ind_dp = 0\n",
    "    while dist_dptos > da:\n",
    "        \n",
    "        nuevo_lobo[0] = reducir_dist_dptos(nuevo_lobo[0], lider[0], ind_dp)\n",
    "        dist_dptos = calcular_dist_lider(nuevo_lobo[0], lider[0])\n",
    "        ind_dp += 1\n",
    "\n",
    "    dist_bahias = calcular_dist_lider(nuevo_lobo[1], lider[1])\n",
    "\n",
    "    ind_bh = 0\n",
    "    while dist_bahias > da:\n",
    "\n",
    "        nuevo_lobo[1] = reducir_dist_bahias(nuevo_lobo[1], lider[1], ind_bh)\n",
    "        dist_bahias = calcular_dist_lider(nuevo_lobo[1], lider[1])\n",
    "        ind_bh += 1\n",
    "\n",
    "    fit_nuevo_lobo = uaflp.calcular_fitness(nuevo_lobo)\n",
    "\n",
    "    # Comparar nuevo fitness con el de lobo alpha y fitness actual\n",
    "    if fit_nuevo_lobo < fit_lideres[0]:\n",
    "\n",
    "        # Agregar nuevo alpha\n",
    "        lobos_lideres.insert(0, nuevo_lobo)        \n",
    "        fit_lideres.insert(0, fit_nuevo_lobo)\n",
    "\n",
    "        # Desplazar antiguo lobo delta a la manada\n",
    "        manada[ind_md] = lobos_lideres[-1]\n",
    "        fit_manada[ind_md] = fit_lideres[-1]\n",
    "\n",
    "        lobos_lideres.pop()\n",
    "        fit_lideres.pop()\n",
    "\n",
    "    elif fit_nuevo_lobo < fit_manada[ind_md]:\n",
    "\n",
    "        # Reemplazar nueva posicion de lobo en manada\n",
    "        manada[ind_md] = nuevo_lobo\n",
    "        fit_manada[ind_md] = fit_nuevo_lobo  \n",
    "    "
   ]
  },
  {
   "cell_type": "code",
   "execution_count": null,
   "id": "f1a9257e",
   "metadata": {},
   "outputs": [],
   "source": []
  },
  {
   "cell_type": "code",
   "execution_count": null,
   "id": "d387d1f9",
   "metadata": {},
   "outputs": [],
   "source": [
    "print(reducir_dist_dptos([1, 2, 3, 4, 5, 6, 7], [7, 6, 5, 4, 3, 2, 1], 4))"
   ]
  },
  {
   "cell_type": "code",
   "execution_count": null,
   "id": "55a30a1c",
   "metadata": {},
   "outputs": [],
   "source": [
    "manada[1] = solucion"
   ]
  },
  {
   "cell_type": "code",
   "execution_count": null,
   "id": "8fef9b11",
   "metadata": {},
   "outputs": [],
   "source": [
    "fit_manada[1] = uaflp.calcular_fitness(manada[1])"
   ]
  },
  {
   "cell_type": "code",
   "execution_count": null,
   "id": "25357719",
   "metadata": {},
   "outputs": [],
   "source": [
    "fit_manada"
   ]
  },
  {
   "cell_type": "code",
   "execution_count": null,
   "id": "8aa29021",
   "metadata": {},
   "outputs": [],
   "source": []
  }
 ],
 "metadata": {
  "kernelspec": {
   "display_name": "Python 3 (ipykernel)",
   "language": "python",
   "name": "python3"
  },
  "language_info": {
   "codemirror_mode": {
    "name": "ipython",
    "version": 3
   },
   "file_extension": ".py",
   "mimetype": "text/x-python",
   "name": "python",
   "nbconvert_exporter": "python",
   "pygments_lexer": "ipython3",
   "version": "3.10.1"
  }
 },
 "nbformat": 4,
 "nbformat_minor": 5
}
