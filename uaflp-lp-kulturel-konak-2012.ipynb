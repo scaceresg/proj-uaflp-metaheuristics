{
 "cells": [
  {
   "cell_type": "markdown",
   "metadata": {},
   "source": [
    "## Relaxed FBS LP Formulation by Kulturel-Konak (2012)"
   ]
  },
  {
   "cell_type": "code",
   "execution_count": 1,
   "metadata": {},
   "outputs": [],
   "source": [
    "import numpy as np\n",
    "from docplex.mp.model import Model"
   ]
  },
  {
   "cell_type": "markdown",
   "metadata": {},
   "source": [
    "### Data Instances:"
   ]
  },
  {
   "cell_type": "code",
   "execution_count": null,
   "metadata": {},
   "outputs": [],
   "source": [
    "# Toy solution\n",
    "sol = np.array([1, 2, 3], [0, 1, 1])\n",
    "# Toy example\n",
    "n_dpts = 3\n",
    "n_bays_sol = 1\n",
    "dpts = np.arange(1, n_dpts + 1)\n",
    "# width = 13\n",
    "# height = 8.54\n",
    "width = 8.54\n",
    "height = 13\n",
    "dp_areas = np.array([16, 16, 16, 36, 9, 9, 9])\n",
    "asp_ratio = np.array([4]*n_dpts)\n",
    "max_side = np.minimum(np.array([height]*n_dpts), np.sqrt(asp_ratio*dp_areas))\n",
    "min_side = np.sqrt(dp_areas/asp_ratio)\n",
    "mat_flows = np.array([[0,  0,  0,  0,  0,  0,  0],\n",
    "                      [0,  0,  0,  0,  0,  0,  0],\n",
    "                      [0,  0,  0,  0,  0,  0,  0],\n",
    "                      [5,  3,  2,  0,  0,  0,  0],\n",
    "                      [0,  0,  0,  4,  0,  0,  0],\n",
    "                      [0,  0,  0,  4,  0,  0,  0],\n",
    "                      [1,  1,  1,  0,  2,  1,  0]])\n",
    "\n",
    "mat_flows = mat_flows.transpose()"
   ]
  },
  {
   "cell_type": "code",
   "execution_count": null,
   "metadata": {},
   "outputs": [],
   "source": [
    "# Input data: Instance O7\n",
    "n_dpts = 7\n",
    "max_bays = np.arange(1, 10)\n",
    "dpts = np.arange(1, n_dpts + 1)\n",
    "# width = 13\n",
    "# height = 8.54\n",
    "width = 8.54\n",
    "height = 13\n",
    "dp_areas = np.array([16, 16, 16, 36, 9, 9, 9])\n",
    "asp_ratio = np.array([4]*n_dpts)\n",
    "max_side = np.minimum(np.array([height]*n_dpts), np.sqrt(asp_ratio*dp_areas))\n",
    "min_side = np.sqrt(dp_areas/asp_ratio)\n",
    "mat_flows = np.array([[0,  0,  0,  0,  0,  0,  0],\n",
    "                      [0,  0,  0,  0,  0,  0,  0],\n",
    "                      [0,  0,  0,  0,  0,  0,  0],\n",
    "                      [5,  3,  2,  0,  0,  0,  0],\n",
    "                      [0,  0,  0,  4,  0,  0,  0],\n",
    "                      [0,  0,  0,  4,  0,  0,  0],\n",
    "                      [1,  1,  1,  0,  2,  1,  0]])\n",
    "\n",
    "mat_flows = mat_flows.transpose()"
   ]
  }
 ],
 "metadata": {
  "kernelspec": {
   "display_name": "Python 3",
   "language": "python",
   "name": "python3"
  },
  "language_info": {
   "codemirror_mode": {
    "name": "ipython",
    "version": 3
   },
   "file_extension": ".py",
   "mimetype": "text/x-python",
   "name": "python",
   "nbconvert_exporter": "python",
   "pygments_lexer": "ipython3",
   "version": "3.10.4"
  },
  "orig_nbformat": 4
 },
 "nbformat": 4,
 "nbformat_minor": 2
}
