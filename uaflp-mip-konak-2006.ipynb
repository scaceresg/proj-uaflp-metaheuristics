{
 "cells": [
  {
   "cell_type": "code",
   "execution_count": 1,
   "metadata": {},
   "outputs": [],
   "source": [
    "import numpy as np\n",
    "from docplex.mp.model import Model"
   ]
  },
  {
   "cell_type": "code",
   "execution_count": 2,
   "metadata": {},
   "outputs": [],
   "source": [
    "# Input data: Instance 07\n",
    "n_dpts = 7\n",
    "max_bays = np.arange(1, 10)\n",
    "dpts = np.arange(1, n_dpts + 1)\n",
    "width = 13\n",
    "height = 8.54\n",
    "dp_areas = np.array([16, 16, 16, 36, 9, 9, 9])\n",
    "asp_ratio = np.array([5, 5, 5, 5, 5, 5, 5])\n",
    "max_side = np.minimum(np.array([height]*n_dpts), np.sqrt(asp_ratio*dp_areas))\n",
    "min_side = np.sqrt(dp_areas/asp_ratio)\n",
    "mat_flows = np.array([[0,  0,  0,  0,  0,  0,  0],\n",
    "                      [0,  0,  0,  0,  0,  0,  0],\n",
    "                      [0,  0,  0,  0,  0,  0,  0],\n",
    "                      [5,  3,  2,  0,  0,  0,  0],\n",
    "                      [0,  0,  0,  4,  0,  0,  0],\n",
    "                      [0,  0,  0,  4,  0,  0,  0],\n",
    "                      [1,  1,  1,  0,  2,  1,  0]])\n",
    "\n",
    "mat_flows = mat_flows.transpose()"
   ]
  },
  {
   "cell_type": "code",
   "execution_count": 3,
   "metadata": {},
   "outputs": [],
   "source": [
    "# Define UAFLP-MIP model\n",
    "uaflp_mip = Model('UAFLP-MIP-KONAK-2006')\n",
    "\n",
    "# Add variables\n",
    "zs = {(i, k): uaflp_mip.binary_var(name=f'z_{i}_{k}')\\\n",
    "      for i in dpts for k in max_bays}\n",
    "\n",
    "rs = {(i, j): uaflp_mip.binary_var(name=f'r_{i}_{j}')\\\n",
    "      for i in dpts for j in dpts}\n",
    "\n",
    "ds = {(k): uaflp_mip.binary_var(name=f'd_{k}')\\\n",
    "      for k in max_bays}\n",
    "\n",
    "w = {(k): uaflp_mip.continuous_var(name=f'w_{k}', lb=0)\\\n",
    "      for k in max_bays}\n",
    "\n",
    "ly = {(i): uaflp_mip.continuous_var(name=f'l_y_{i}', lb=0)\\\n",
    "      for i in dpts}\n",
    "\n",
    "h = {(i, k): uaflp_mip.continuous_var(name=f'h_{i}_{k}', lb=0)\\\n",
    "       for i in dpts for k in max_bays}\n",
    "\n",
    "x = {(i): uaflp_mip.continuous_var(name=f'x_{i}', lb=0)\\\n",
    "      for i in dpts}\n",
    "\n",
    "y = {(i): uaflp_mip.continuous_var(name=f'y_{i}', lb=0)\\\n",
    "      for i in dpts}\n",
    "\n",
    "dx = {(i, j): uaflp_mip.continuous_var(name=f'd_x_{i}_{j}', lb=0)\\\n",
    "        for i in dpts for j in dpts}\n",
    "\n",
    "dy = {(i, j): uaflp_mip.continuous_var(name=f'd_y_{i}_{j}', lb=0)\\\n",
    "        for i in dpts for j in dpts}"
   ]
  },
  {
   "cell_type": "code",
   "execution_count": 4,
   "metadata": {},
   "outputs": [],
   "source": [
    "# Add objective function\n",
    "# total_mf_costs = uaflp_mip.linear_expr()\n",
    "\n",
    "# for i in dpts:\n",
    "#     for j in dpts:\n",
    "#         if i < j:\n",
    "#             print(i, j, mat_flows[i-1, j-1])\n",
    "#             total_mf_costs.add_term(dx[i, j], mat_flows[i-1, j-1])\n",
    "#             total_mf_costs.add_term(dy[i, j], mat_flows[i-1, j-1])\n",
    "\n",
    "\n",
    "total_mf_costs = uaflp_mip.sum(uaflp_mip.sum(mat_flows[i-1, j-1] * (dx[i, j] + dy[i, j]) for j in dpts if i < j) for i in dpts)\n",
    "\n",
    "uaflp_mip.minimize(total_mf_costs)"
   ]
  },
  {
   "cell_type": "code",
   "execution_count": 6,
   "metadata": {},
   "outputs": [],
   "source": [
    "# Add constraints\n",
    "for i in dpts:\n",
    "    for j in dpts:\n",
    "        if i < j:\n",
    "            uaflp_mip.add_constraint(dx[i, j] >= x[i] - x[j])\n",
    "            uaflp_mip.add_constraint(dx[i, j] >= x[j] - x[i])\n",
    "            uaflp_mip.add_constraint(dy[i, j] >= y[i] - y[j])\n",
    "            uaflp_mip.add_constraint(dy[i, j] >= y[j] - y[i])"
   ]
  },
  {
   "cell_type": "code",
   "execution_count": 7,
   "metadata": {},
   "outputs": [],
   "source": [
    "for i in dpts:\n",
    "    uaflp_mip.add_constraint(uaflp_mip.sum(zs[i, k] for k in max_bays) == 1)"
   ]
  },
  {
   "cell_type": "code",
   "execution_count": 8,
   "metadata": {},
   "outputs": [],
   "source": [
    "for k in max_bays:\n",
    "    uaflp_mip.add_constraint(w[k] == uaflp_mip.sum(zs[i, k] * dp_areas[i-1] for i in dpts)/height)"
   ]
  },
  {
   "cell_type": "code",
   "execution_count": 9,
   "metadata": {},
   "outputs": [],
   "source": [
    "for i in dpts:\n",
    "    for k in max_bays:\n",
    "        uaflp_mip.add_constraint(min_side[i-1] * zs[i, k] <= w[k])\n",
    "        uaflp_mip.add_constraint(w[k] <= max_side[i-1] + width * (1 - zs[i, k]))"
   ]
  },
  {
   "cell_type": "code",
   "execution_count": 10,
   "metadata": {},
   "outputs": [],
   "source": [
    "for i in dpts:\n",
    "    for k in max_bays:\n",
    "        uaflp_mip.add_constraint(x[i] >= uaflp_mip.sum(w[j] for j in max_bays if j <= k) - 0.5*w[k] - \\\n",
    "                                 (width - min_side[i-1])*(1 - zs[i, k]))\n",
    "        \n",
    "        uaflp_mip.add_constraint(x[i] <= uaflp_mip.sum(w[j] for j in max_bays if j <= k) - 0.5*w[k] + \\\n",
    "                                 (width - min_side[i-1])*(1 - zs[i, k]))"
   ]
  },
  {
   "cell_type": "code",
   "execution_count": 11,
   "metadata": {},
   "outputs": [],
   "source": [
    "for i in dpts:\n",
    "    for j in dpts:\n",
    "        if i < j:\n",
    "            for k in max_bays:\n",
    "                uaflp_mip.add_constraint(h[i, k]/dp_areas[i-1] - h[j, k]/dp_areas[j-1] - uaflp_mip.max([max_side[i-1]/dp_areas[i-1], max_side[j-1]/dp_areas[j-1]])*(2 - zs[i, k] - zs[j, k]) <= 0)\n",
    "                uaflp_mip.add_constraint(h[i, k]/dp_areas[i-1] - h[j, k]/dp_areas[j-1] - uaflp_mip.max([max_side[i-1]/dp_areas[i-1], max_side[j-1]/dp_areas[j-1]])*(2 - zs[i, k] - zs[j, k]) >= 0)"
   ]
  },
  {
   "cell_type": "code",
   "execution_count": 12,
   "metadata": {},
   "outputs": [],
   "source": [
    "for k in max_bays:\n",
    "    uaflp_mip.add_constraint(uaflp_mip.sum(h[i, k] for i in dpts) == height*ds[k])"
   ]
  },
  {
   "cell_type": "code",
   "execution_count": 13,
   "metadata": {},
   "outputs": [],
   "source": [
    "for i in dpts:\n",
    "    for k in max_bays:\n",
    "        uaflp_mip.add_constraint(min_side[i-1]*zs[i, k] <= h[i, k])\n",
    "        uaflp_mip.add_constraint(h[i, k] <= max_side[i-1]*zs[i, k])"
   ]
  },
  {
   "cell_type": "code",
   "execution_count": 14,
   "metadata": {},
   "outputs": [],
   "source": [
    "for i in dpts:\n",
    "    uaflp_mip.add_constraint(uaflp_mip.sum(h[i, k] for k in max_bays) == ly[i])"
   ]
  },
  {
   "cell_type": "code",
   "execution_count": 15,
   "metadata": {},
   "outputs": [],
   "source": [
    "for i in dpts:\n",
    "    for j in dpts:\n",
    "        if i != j:\n",
    "            uaflp_mip.add_constraint(y[i] - 0.5*ly[i] >= y[j] + 0.5*ly[j] - height*(1 - rs[i, j]))"
   ]
  },
  {
   "cell_type": "code",
   "execution_count": 16,
   "metadata": {},
   "outputs": [],
   "source": [
    "for i in dpts:\n",
    "    for j in dpts:\n",
    "        if i < j:\n",
    "            uaflp_mip.add_constraint(rs[i, j] + rs[j, i] <= 1)"
   ]
  },
  {
   "cell_type": "code",
   "execution_count": 17,
   "metadata": {},
   "outputs": [],
   "source": [
    "for i in dpts:\n",
    "    for j in dpts:\n",
    "        if i < j:\n",
    "            for k in max_bays:\n",
    "                uaflp_mip.add_constraint(rs[i, j] + rs[j, i] >= zs[i, k] + zs[j, k] - 1)"
   ]
  },
  {
   "cell_type": "code",
   "execution_count": 18,
   "metadata": {},
   "outputs": [],
   "source": [
    "for i in dpts:\n",
    "    uaflp_mip.add_constraint(0.5*ly[i] <= y[i])\n",
    "    uaflp_mip.add_constraint(y[i] <= height - 0.5*ly[i])"
   ]
  },
  {
   "cell_type": "code",
   "execution_count": null,
   "metadata": {},
   "outputs": [],
   "source": [
    "uaflp_mip.pprint()"
   ]
  },
  {
   "cell_type": "code",
   "execution_count": 19,
   "metadata": {},
   "outputs": [
    {
     "name": "stdout",
     "output_type": "stream",
     "text": [
      "CPLEX Error  1016: Community Edition. Problem size limits exceeded. Purchase at http://ibm.biz/error1016.\n"
     ]
    },
    {
     "ename": "DOcplexLimitsExceeded",
     "evalue": "**** Promotional version. Problem size limits (1000 vars, 1000 consts) exceeded, model has 312 vars, 1138 consts, CPLEX code=1016",
     "output_type": "error",
     "traceback": [
      "\u001b[1;31m---------------------------------------------------------------------------\u001b[0m",
      "\u001b[1;31mCplexSolverError\u001b[0m                          Traceback (most recent call last)",
      "File \u001b[1;32mc:\\Users\\SebastianCaceresG\\AppData\\Local\\Programs\\Python\\Python310\\lib\\site-packages\\docplex\\mp\\cplex_engine.py:2004\u001b[0m, in \u001b[0;36mCplexEngine.solve\u001b[1;34m(self, mdl, parameters, **kwargs)\u001b[0m\n\u001b[0;32m   2003\u001b[0m \u001b[39melse\u001b[39;00m:\n\u001b[1;32m-> 2004\u001b[0m     cpx\u001b[39m.\u001b[39;49msolve()\n\u001b[0;32m   2006\u001b[0m cpx_status \u001b[39m=\u001b[39m cpx\u001b[39m.\u001b[39msolution\u001b[39m.\u001b[39mget_status()\n",
      "File \u001b[1;32mc:\\Users\\SebastianCaceresG\\AppData\\Local\\Programs\\Python\\Python310\\lib\\site-packages\\cplex\\__init__.py:1304\u001b[0m, in \u001b[0;36mCplex.solve\u001b[1;34m(self, paramsets)\u001b[0m\n\u001b[0;32m   1303\u001b[0m \u001b[39melif\u001b[39;00m \u001b[39mself\u001b[39m\u001b[39m.\u001b[39m_is_MIP():\n\u001b[1;32m-> 1304\u001b[0m     _proc\u001b[39m.\u001b[39;49mmipopt(\u001b[39mself\u001b[39;49m\u001b[39m.\u001b[39;49m_env\u001b[39m.\u001b[39;49m_e, \u001b[39mself\u001b[39;49m\u001b[39m.\u001b[39;49m_lp)\n\u001b[0;32m   1305\u001b[0m \u001b[39melif\u001b[39;00m \u001b[39mself\u001b[39m\u001b[39m.\u001b[39mquadratic_constraints\u001b[39m.\u001b[39mget_num() \u001b[39m>\u001b[39m \u001b[39m0\u001b[39m:\n",
      "File \u001b[1;32mc:\\Users\\SebastianCaceresG\\AppData\\Local\\Programs\\Python\\Python310\\lib\\site-packages\\cplex\\_internal\\_procedural.py:708\u001b[0m, in \u001b[0;36mmipopt\u001b[1;34m(env, lp)\u001b[0m\n\u001b[0;32m    707\u001b[0m     status \u001b[39m=\u001b[39m CR\u001b[39m.\u001b[39mCPXXmipopt(env, lp)\n\u001b[1;32m--> 708\u001b[0m check_status(env, status)\n",
      "File \u001b[1;32mc:\\Users\\SebastianCaceresG\\AppData\\Local\\Programs\\Python\\Python310\\lib\\site-packages\\cplex\\_internal\\_procedural.py:249\u001b[0m, in \u001b[0;36mStatusChecker.__call__\u001b[1;34m(self, env, status, from_cb)\u001b[0m\n\u001b[0;32m    248\u001b[0m         error_string \u001b[39m=\u001b[39m geterrorstring(env, status)\n\u001b[1;32m--> 249\u001b[0m \u001b[39mraise\u001b[39;00m CplexSolverError(error_string, env, status)\n",
      "\u001b[1;31mCplexSolverError\u001b[0m: CPLEX Error  1016: Community Edition. Problem size limits exceeded. Purchase at http://ibm.biz/error1016.",
      "\nDuring handling of the above exception, another exception occurred:\n",
      "\u001b[1;31mDOcplexLimitsExceeded\u001b[0m                     Traceback (most recent call last)",
      "\u001b[1;32mg:\\Mi unidad\\GitHub\\proj-uaflp-metaheuristics\\uaflp-mip-konak-2006.ipynb Cell 19\u001b[0m line \u001b[0;36m1\n\u001b[1;32m----> <a href='vscode-notebook-cell:/g%3A/Mi%20unidad/GitHub/proj-uaflp-metaheuristics/uaflp-mip-konak-2006.ipynb#X24sZmlsZQ%3D%3D?line=0'>1</a>\u001b[0m uaflp_sol \u001b[39m=\u001b[39m uaflp_mip\u001b[39m.\u001b[39;49msolve(log_output\u001b[39m=\u001b[39;49m\u001b[39mTrue\u001b[39;49;00m)\n",
      "File \u001b[1;32mc:\\Users\\SebastianCaceresG\\AppData\\Local\\Programs\\Python\\Python310\\lib\\site-packages\\docplex\\mp\\model.py:4833\u001b[0m, in \u001b[0;36mModel.solve\u001b[1;34m(self, **kwargs)\u001b[0m\n\u001b[0;32m   4830\u001b[0m \u001b[39mif\u001b[39;00m \u001b[39mself\u001b[39m\u001b[39m.\u001b[39menvironment\u001b[39m.\u001b[39mhas_cplex:\n\u001b[0;32m   4831\u001b[0m     \u001b[39m# take arg clean flag or this model's\u001b[39;00m\n\u001b[0;32m   4832\u001b[0m     used_clean_before_solve \u001b[39m=\u001b[39m kwargs\u001b[39m.\u001b[39mget(\u001b[39m'\u001b[39m\u001b[39mclean_before_solve\u001b[39m\u001b[39m'\u001b[39m, \u001b[39mself\u001b[39m\u001b[39m.\u001b[39mclean_before_solve)\n\u001b[1;32m-> 4833\u001b[0m     \u001b[39mreturn\u001b[39;00m \u001b[39mself\u001b[39;49m\u001b[39m.\u001b[39;49m_solve_local(context, used_clean_before_solve, parameter_sets)\u001b[39m# lex_timelimits, lex_mipgaps)\u001b[39;00m\n\u001b[0;32m   4834\u001b[0m \u001b[39melse\u001b[39;00m:\n\u001b[0;32m   4835\u001b[0m     \u001b[39mreturn\u001b[39;00m \u001b[39mself\u001b[39m\u001b[39m.\u001b[39mfatal(\u001b[39m\"\u001b[39m\u001b[39mCannot solve model: no CPLEX runtime found.\u001b[39m\u001b[39m\"\u001b[39m)\n",
      "File \u001b[1;32mc:\\Users\\SebastianCaceresG\\AppData\\Local\\Programs\\Python\\Python310\\lib\\site-packages\\docplex\\mp\\model.py:4881\u001b[0m, in \u001b[0;36mModel._solve_local\u001b[1;34m(self, context, clean_before_solve, parameter_sets)\u001b[0m\n\u001b[0;32m   4879\u001b[0m \u001b[39mexcept\u001b[39;00m DOcplexException \u001b[39mas\u001b[39;00m docpx_e:  \u001b[39m# pragma: no cover\u001b[39;00m\n\u001b[0;32m   4880\u001b[0m     new_solution \u001b[39m=\u001b[39m \u001b[39mNone\u001b[39;00m\n\u001b[1;32m-> 4881\u001b[0m     \u001b[39mraise\u001b[39;00m docpx_e\n\u001b[0;32m   4883\u001b[0m \u001b[39mexcept\u001b[39;00m \u001b[39mException\u001b[39;00m \u001b[39mas\u001b[39;00m e:\n\u001b[0;32m   4884\u001b[0m     new_solution \u001b[39m=\u001b[39m \u001b[39mNone\u001b[39;00m\n",
      "File \u001b[1;32mc:\\Users\\SebastianCaceresG\\AppData\\Local\\Programs\\Python\\Python310\\lib\\site-packages\\docplex\\mp\\model.py:4870\u001b[0m, in \u001b[0;36mModel._solve_local\u001b[1;34m(self, context, clean_before_solve, parameter_sets)\u001b[0m\n\u001b[0;32m   4867\u001b[0m \u001b[39m# assert used_parameters is not None\u001b[39;00m\n\u001b[0;32m   4868\u001b[0m \u001b[39mself\u001b[39m\u001b[39m.\u001b[39m_apply_parameters_to_engine(used_parameters)\n\u001b[1;32m-> 4870\u001b[0m new_solution \u001b[39m=\u001b[39m self_engine\u001b[39m.\u001b[39;49msolve(\u001b[39mself\u001b[39;49m,\n\u001b[0;32m   4871\u001b[0m                                  parameters\u001b[39m=\u001b[39;49mused_parameters,\n\u001b[0;32m   4872\u001b[0m                                  clean_before_solve\u001b[39m=\u001b[39;49mclean_before_solve,\n\u001b[0;32m   4873\u001b[0m                                  parameter_sets \u001b[39m=\u001b[39;49m parameter_sets)\n\u001b[0;32m   4875\u001b[0m \u001b[39m# store solve status as returned by the engine.\u001b[39;00m\n\u001b[0;32m   4876\u001b[0m engine_status \u001b[39m=\u001b[39m self_engine\u001b[39m.\u001b[39mget_solve_status()\n",
      "File \u001b[1;32mc:\\Users\\SebastianCaceresG\\AppData\\Local\\Programs\\Python\\Python310\\lib\\site-packages\\docplex\\mp\\cplex_engine.py:2040\u001b[0m, in \u001b[0;36mCplexEngine.solve\u001b[1;34m(self, mdl, parameters, **kwargs)\u001b[0m\n\u001b[0;32m   2038\u001b[0m     cpx_status \u001b[39m=\u001b[39m \u001b[39m1016\u001b[39m\n\u001b[0;32m   2039\u001b[0m     cpx_status_string \u001b[39m=\u001b[39m \u001b[39m\"\u001b[39m\u001b[39mPromotional version. Problem size limits exceeded., CPLEX code=1016.\u001b[39m\u001b[39m\"\u001b[39m\n\u001b[1;32m-> 2040\u001b[0m     \u001b[39mself\u001b[39;49m\u001b[39m.\u001b[39;49m_model\u001b[39m.\u001b[39;49mfatal_ce_limits()\n\u001b[0;32m   2042\u001b[0m \u001b[39melif\u001b[39;00m \u001b[39mself\u001b[39m\u001b[39m.\u001b[39mfix_multiobj_error_1300 \u001b[39mand\u001b[39;00m \u001b[39m1300\u001b[39m \u001b[39m==\u001b[39m cpx_code:\n\u001b[0;32m   2043\u001b[0m     \u001b[39m# multiobjective error but there IS a solution (?)\u001b[39;00m\n\u001b[0;32m   2044\u001b[0m     cpx_status \u001b[39m=\u001b[39m \u001b[39m1300\u001b[39m\n",
      "File \u001b[1;32mc:\\Users\\SebastianCaceresG\\AppData\\Local\\Programs\\Python\\Python310\\lib\\site-packages\\docplex\\mp\\model.py:1086\u001b[0m, in \u001b[0;36mModel.fatal_ce_limits\u001b[1;34m(self, *args)\u001b[0m\n\u001b[0;32m   1083\u001b[0m nb_vars \u001b[39m=\u001b[39m \u001b[39mself\u001b[39m\u001b[39m.\u001b[39mnumber_of_variables\n\u001b[0;32m   1084\u001b[0m nb_constraints \u001b[39m=\u001b[39m \u001b[39mself\u001b[39m\u001b[39m.\u001b[39mnumber_of_constraints\n\u001b[1;32m-> 1086\u001b[0m \u001b[39mself\u001b[39;49m\u001b[39m.\u001b[39;49m_error_handler\u001b[39m.\u001b[39;49mfatal_limits_exceeded(nb_vars, nb_constraints)\n",
      "File \u001b[1;32mc:\\Users\\SebastianCaceresG\\AppData\\Local\\Programs\\Python\\Python310\\lib\\site-packages\\docplex\\mp\\error_handler.py:214\u001b[0m, in \u001b[0;36mAbstractErrorHandler.fatal_limits_exceeded\u001b[1;34m(self, nb_vars, nb_constraints)\u001b[0m\n\u001b[0;32m    212\u001b[0m \u001b[39mdef\u001b[39;00m \u001b[39mfatal_limits_exceeded\u001b[39m(\u001b[39mself\u001b[39m, nb_vars, nb_constraints):\n\u001b[0;32m    213\u001b[0m     docplex_error_stop_here()\n\u001b[1;32m--> 214\u001b[0m     \u001b[39mraise\u001b[39;00m DOcplexLimitsExceeded(nb_vars, nb_constraints)\n",
      "\u001b[1;31mDOcplexLimitsExceeded\u001b[0m: **** Promotional version. Problem size limits (1000 vars, 1000 consts) exceeded, model has 312 vars, 1138 consts, CPLEX code=1016"
     ]
    }
   ],
   "source": [
    "uaflp_sol = uaflp_mip.solve(log_output=True)"
   ]
  },
  {
   "cell_type": "code",
   "execution_count": null,
   "metadata": {},
   "outputs": [],
   "source": []
  }
 ],
 "metadata": {
  "kernelspec": {
   "display_name": "Python 3",
   "language": "python",
   "name": "python3"
  },
  "language_info": {
   "codemirror_mode": {
    "name": "ipython",
    "version": 3
   },
   "file_extension": ".py",
   "mimetype": "text/x-python",
   "name": "python",
   "nbconvert_exporter": "python",
   "pygments_lexer": "ipython3",
   "version": "3.10.1"
  },
  "orig_nbformat": 4
 },
 "nbformat": 4,
 "nbformat_minor": 2
}
